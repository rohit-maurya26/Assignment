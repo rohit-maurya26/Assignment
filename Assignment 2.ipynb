{
 "cells": [
  {
   "cell_type": "markdown",
   "id": "756aeef5",
   "metadata": {},
   "source": [
    "# Assinment 2\n"
   ]
  },
  {
   "cell_type": "code",
   "execution_count": 4,
   "id": "02468729",
   "metadata": {
    "scrolled": false
   },
   "outputs": [
    {
     "ename": "SyntaxError",
     "evalue": "invalid syntax (4244478351.py, line 4)",
     "output_type": "error",
     "traceback": [
      "\u001b[1;36m  File \u001b[1;32m\"C:\\Users\\SAMSUNG\\AppData\\Local\\Temp\\ipykernel_4012\\4244478351.py\"\u001b[1;36m, line \u001b[1;32m4\u001b[0m\n\u001b[1;33m    #''' for multiple line comment'''\u001b[0m\n\u001b[1;37m         ^\u001b[0m\n\u001b[1;31mSyntaxError\u001b[0m\u001b[1;31m:\u001b[0m invalid syntax\n"
     ]
    }
   ],
   "source": [
    "#Q1 \n",
    "In Python, comments are used to explain code and are ignored by the interpreter. For comments we simply use\n",
    " #  for single line comment \n",
    "''' for multiple line comment'''\n",
    "\n",
    "There are two types of comments \n",
    "1- single line comment\n",
    "2- Multiline comment"
   ]
  },
  {
   "cell_type": "code",
   "execution_count": null,
   "id": "24ccf5e1",
   "metadata": {},
   "outputs": [],
   "source": [
    "#Q2\n",
    "In Python, a variable is a named location in memory used to store data. we can think of it as a container that holds a value, such as a number, string etc.\n",
    "In python we don't need to specify the data types before declaring variables.\n",
    "\n",
    "Example:\n",
    "# Declaring an integer variable and assigning it a value\n",
    "age = 20 \n",
    "\n",
    "# Declaring a float variable and assigning it a value\n",
    "salary = 50000.50 \n",
    "\n",
    "# Declaring a string variable and assigning it a value\n",
    "name = \"Alice\"\n"
   ]
  },
  {
   "cell_type": "code",
   "execution_count": null,
   "id": "ad717feb",
   "metadata": {},
   "outputs": [],
   "source": [
    "#Q3\n",
    "In Python, you can convert one data type to another using built-in functions. \n",
    "There are two main types of type conversion: implicit and explicit.\n",
    "    \n",
    "In Implicit Type Conversion it is done automatically by Python.\n",
    "Example:\n",
    "when we add an integer and a float, Python automatically converts the integer to a float\n",
    "x = 10\n",
    "y = 10.5\n",
    "z = x + y\n",
    "print(z) #output is 20.5\n",
    "\n",
    "In Explicit Type Conversion we have to convert the data type using functions like int(), float(), str(), etc.\n",
    "Example:\n",
    "n_str = \"50\"\n",
    "n_int = int(n_str)\n",
    "print(n_int)  # Output: 50\n",
    "print(type(n_int))  # Output: <class 'int'>\n",
    "\n",
    "    \n",
    "    "
   ]
  },
  {
   "cell_type": "code",
   "execution_count": null,
   "id": "ea14d182",
   "metadata": {},
   "outputs": [],
   "source": [
    "#Q4\n",
    "Writing a Python Script:\n",
    "    \n",
    "You can use any text editor like Notepad, VS Code,jupyter notebook etc. to write the script.\n",
    "Example:\n",
    "print(\"Hello from my Python script!\") #i save as script.py\n",
    "#save with .py extension\n",
    "\n",
    "Executing the Python Script:\n",
    "    \n",
    "open command prompt and Use the cd command to change the directory to where your script is saved.\n",
    "To run Type python followed by the script name and press Enter:\n",
    "    \n",
    "Example:\n",
    "python script.py\n",
    "#output\n",
    "Hello from my python script!\n",
    "    \n"
   ]
  },
  {
   "cell_type": "code",
   "execution_count": 16,
   "id": "3b3184ed",
   "metadata": {},
   "outputs": [
    {
     "name": "stdout",
     "output_type": "stream",
     "text": [
      "[2, 3]\n"
     ]
    }
   ],
   "source": [
    "#Q5\n",
    "\n",
    "my_list = [1, 2, 3, 4, 5]\n",
    "sub_list = my_list[1:3]\n",
    "print(sub_list)\n",
    "\n"
   ]
  },
  {
   "cell_type": "code",
   "execution_count": 5,
   "id": "a0521e9a",
   "metadata": {},
   "outputs": [
    {
     "data": {
      "text/plain": [
       "'The combination of real part and imaginary part of number is called complex number in mathematics.\\nIt is in (a+bi) form.\\nExample:\\n    (3+4i)\\n    \\nRepresentation in Python::\\n   \\nIn python we can create using complex() function or we can simply write in (a+bj) form\\n\\nExample:\\n    z1 = complex(3, 4)  \\n    or\\n    z2 = 5 + 6j '"
      ]
     },
     "execution_count": 5,
     "metadata": {},
     "output_type": "execute_result"
    }
   ],
   "source": [
    "#6\n",
    "The combination of real part and imaginary part of number is called complex number in mathematics.\n",
    "It is in (a+bi) form.\n",
    "Example:\n",
    "    (3+4i)\n",
    "    \n",
    "Representation in Python::\n",
    "   \n",
    "In python we can create using complex() function or we can simply write in (a+bj) form\n",
    "\n",
    "Example:\n",
    "    z1 = complex(3, 4)  \n",
    "    or\n",
    "    z2 = 5 + 6j \n"
   ]
  },
  {
   "cell_type": "code",
   "execution_count": null,
   "id": "0c81f9a5",
   "metadata": {},
   "outputs": [],
   "source": [
    "#Q7\n",
    "Declaring a variable named age and assigning the value 25 to it is straightforward we just write\n",
    "\n",
    "age = 25\n"
   ]
  },
  {
   "cell_type": "code",
   "execution_count": 7,
   "id": "107879ec",
   "metadata": {},
   "outputs": [
    {
     "data": {
      "text/plain": [
       "float"
      ]
     },
     "execution_count": 7,
     "metadata": {},
     "output_type": "execute_result"
    }
   ],
   "source": [
    "#Q8\n",
    "\n",
    "price=9.99\n",
    "type(price)# so it is belongs to float data type"
   ]
  },
  {
   "cell_type": "code",
   "execution_count": 9,
   "id": "0e38c4b9",
   "metadata": {},
   "outputs": [
    {
     "name": "stdout",
     "output_type": "stream",
     "text": [
      "Rohit Maurya\n"
     ]
    }
   ],
   "source": [
    "#9\n",
    "\n",
    "name = \"Rohit Maurya\"\n",
    "\n",
    "print(name)"
   ]
  },
  {
   "cell_type": "code",
   "execution_count": 12,
   "id": "732a843f",
   "metadata": {},
   "outputs": [
    {
     "name": "stdout",
     "output_type": "stream",
     "text": [
      "World\n"
     ]
    }
   ],
   "source": [
    "#10\n",
    "#Given\n",
    "str=\"Hello, World!\"\n",
    "\n",
    "sub_str=str[7:12]\n",
    "print(sub_str)"
   ]
  },
  {
   "cell_type": "code",
   "execution_count": 14,
   "id": "404b1184",
   "metadata": {},
   "outputs": [
    {
     "name": "stdout",
     "output_type": "stream",
     "text": [
      "True\n"
     ]
    }
   ],
   "source": [
    "#11\n",
    "\n",
    "is_student= True\n",
    "print(is_student)"
   ]
  }
 ],
 "metadata": {
  "kernelspec": {
   "display_name": "Python 3 (ipykernel)",
   "language": "python",
   "name": "python3"
  },
  "language_info": {
   "codemirror_mode": {
    "name": "ipython",
    "version": 3
   },
   "file_extension": ".py",
   "mimetype": "text/x-python",
   "name": "python",
   "nbconvert_exporter": "python",
   "pygments_lexer": "ipython3",
   "version": "3.9.13"
  }
 },
 "nbformat": 4,
 "nbformat_minor": 5
}
