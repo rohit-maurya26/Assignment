{
 "cells": [
  {
   "cell_type": "code",
   "execution_count": null,
   "id": "5beee33b",
   "metadata": {},
   "outputs": [],
   "source": [
    "# Q1\n",
    "x=\"Rohit\"  #string\n",
    "l=[1,2,3,4,'abc',67.2] #list\n",
    "y=43.5 #float\n",
    "z=(7,\"B.Tech\",26,45.33) #tuple"
   ]
  },
  {
   "cell_type": "code",
   "execution_count": null,
   "id": "e4422934",
   "metadata": {},
   "outputs": [],
   "source": [
    "#Q2\n",
    "var1=''\n",
    "type(var1)"
   ]
  },
  {
   "cell_type": "code",
   "execution_count": 2,
   "id": "073cdc7e",
   "metadata": {},
   "outputs": [
    {
     "data": {
      "text/plain": [
       "str"
      ]
     },
     "execution_count": 2,
     "metadata": {},
     "output_type": "execute_result"
    }
   ],
   "source": [
    "var2='[DS,ML,PYTHON]'\n",
    "type(var2)"
   ]
  },
  {
   "cell_type": "code",
   "execution_count": 3,
   "id": "dc09760c",
   "metadata": {},
   "outputs": [
    {
     "data": {
      "text/plain": [
       "list"
      ]
     },
     "execution_count": 3,
     "metadata": {},
     "output_type": "execute_result"
    }
   ],
   "source": [
    "var3=['DS','ML','PYTHON']\n",
    "type(var3)"
   ]
  },
  {
   "cell_type": "code",
   "execution_count": 4,
   "id": "bf82eccf",
   "metadata": {},
   "outputs": [
    {
     "data": {
      "text/plain": [
       "int"
      ]
     },
     "execution_count": 4,
     "metadata": {},
     "output_type": "execute_result"
    }
   ],
   "source": [
    "var4=1\n",
    "type(var)"
   ]
  },
  {
   "cell_type": "code",
   "execution_count": null,
   "id": "299fd5f4",
   "metadata": {},
   "outputs": [],
   "source": [
    "# Q3\n",
    "#  / :divides the first operand by the second.\n",
    "x = 12\n",
    "y = 3\n",
    "print(x / y)"
   ]
  },
  {
   "cell_type": "code",
   "execution_count": null,
   "id": "1a6e6197",
   "metadata": {},
   "outputs": [],
   "source": [
    "#  % :returns the remainder when the first operand is divided by the second.\n",
    "a = 26\n",
    "b = 4\n",
    "c = a % b\n",
    "print(c)"
   ]
  },
  {
   "cell_type": "code",
   "execution_count": null,
   "id": "dd713ca6",
   "metadata": {},
   "outputs": [],
   "source": [
    "#  // : It is used to find the floor of the quotient when the first operand is divided by the second.\n",
    "x=45\n",
    "y=12\n",
    "z=x//y\n",
    "print(z)"
   ]
  },
  {
   "cell_type": "code",
   "execution_count": null,
   "id": "1d17e07d",
   "metadata": {},
   "outputs": [],
   "source": [
    "#  ** :It is used to raise the first operand to the power of the second. \n",
    "x=2\n",
    "y=3\n",
    "z=x**y\n",
    "print(z)"
   ]
  },
  {
   "cell_type": "code",
   "execution_count": null,
   "id": "10fbfdfc",
   "metadata": {},
   "outputs": [],
   "source": [
    "# Q4\n",
    "l=[1,\"bca\",22.4,\"b.tech\",5,3,56,4<5,'A',8]\n",
    "for i in l:\n",
    "    print(type(i))"
   ]
  },
  {
   "cell_type": "code",
   "execution_count": 1,
   "id": "517f24e6",
   "metadata": {},
   "outputs": [
    {
     "name": "stdout",
     "output_type": "stream",
     "text": [
      "Enter number A: 56\n",
      "Enter number B: 8\n",
      "A is purely divisible by B by 7 times\n"
     ]
    }
   ],
   "source": [
    "# Q5\n",
    "a = int(input(\"Enter number A: \"))\n",
    "b = int(input(\"Enter number B: \"))\n",
    "count=a//b\n",
    "while a>=b:\n",
    "    a=a-b\n",
    "    \n",
    "if a%b==0:\n",
    "        print(\"A is purely divisible by B by\",count, \"times\")\n",
    "else:\n",
    "        print(\"A is not purely divisible by B\")"
   ]
  },
  {
   "cell_type": "code",
   "execution_count": 2,
   "id": "b54ba70e",
   "metadata": {},
   "outputs": [
    {
     "name": "stdout",
     "output_type": "stream",
     "text": [
      "1 Not Divisible by 3\n",
      "2 Not Divisible by 3\n",
      "3 is divisible by 3\n",
      "4 Not Divisible by 3\n",
      "5 Not Divisible by 3\n",
      "6 is divisible by 3\n",
      "7 Not Divisible by 3\n",
      "8 Not Divisible by 3\n",
      "9 is divisible by 3\n",
      "10 Not Divisible by 3\n",
      "11 Not Divisible by 3\n",
      "12 is divisible by 3\n",
      "13 Not Divisible by 3\n",
      "14 Not Divisible by 3\n",
      "15 is divisible by 3\n",
      "16 Not Divisible by 3\n",
      "17 Not Divisible by 3\n",
      "18 is divisible by 3\n",
      "19 Not Divisible by 3\n",
      "20 Not Divisible by 3\n",
      "21 is divisible by 3\n",
      "22 Not Divisible by 3\n",
      "23 Not Divisible by 3\n",
      "24 is divisible by 3\n",
      "25 Not Divisible by 3\n"
     ]
    }
   ],
   "source": [
    "# Q6\n",
    "l=[x for x in range(1,26)]\n",
    "for i in l:\n",
    "    if i%3==0:\n",
    "        print(i,\"is divisible by 3\")\n",
    "    else:\n",
    "        print(i,\"Not Divisible by 3\")"
   ]
  },
  {
   "cell_type": "code",
   "execution_count": 4,
   "id": "2c7cb85a",
   "metadata": {},
   "outputs": [
    {
     "name": "stdout",
     "output_type": "stream",
     "text": [
      "[2, 'a', 4, 5, 6, 7, 8]\n"
     ]
    },
    {
     "ename": "TypeError",
     "evalue": "'str' object does not support item assignment",
     "output_type": "error",
     "traceback": [
      "\u001b[1;31m---------------------------------------------------------------------------\u001b[0m",
      "\u001b[1;31mTypeError\u001b[0m                                 Traceback (most recent call last)",
      "\u001b[1;32m~\\AppData\\Local\\Temp\\ipykernel_8244\\3668608226.py\u001b[0m in \u001b[0;36m<module>\u001b[1;34m\u001b[0m\n\u001b[0;32m      8\u001b[0m \u001b[1;31m#EX:string\u001b[0m\u001b[1;33m\u001b[0m\u001b[1;33m\u001b[0m\u001b[0m\n\u001b[0;32m      9\u001b[0m \u001b[0ms\u001b[0m\u001b[1;33m=\u001b[0m\u001b[1;34m'Rohit'\u001b[0m\u001b[1;33m\u001b[0m\u001b[1;33m\u001b[0m\u001b[0m\n\u001b[1;32m---> 10\u001b[1;33m \u001b[0ms\u001b[0m\u001b[1;33m[\u001b[0m\u001b[1;36m3\u001b[0m\u001b[1;33m]\u001b[0m\u001b[1;33m=\u001b[0m\u001b[1;34m'r'\u001b[0m\u001b[1;33m\u001b[0m\u001b[1;33m\u001b[0m\u001b[0m\n\u001b[0m\u001b[0;32m     11\u001b[0m \u001b[0mprint\u001b[0m\u001b[1;33m(\u001b[0m\u001b[0ms\u001b[0m\u001b[1;33m)\u001b[0m\u001b[1;33m\u001b[0m\u001b[1;33m\u001b[0m\u001b[0m\n\u001b[0;32m     12\u001b[0m \u001b[1;33m\u001b[0m\u001b[0m\n",
      "\u001b[1;31mTypeError\u001b[0m: 'str' object does not support item assignment"
     ]
    }
   ],
   "source": [
    "# Q7\n",
    "#Mutable Data Types: it is the data types which can be modify and are changeable once created.\n",
    "#EX:\n",
    "lst=[2,3,4,5,6,7,8]\n",
    "lst[1]='a'\n",
    "print(lst)\n",
    "#Immutable Data Types: it is the data types which cannot be modify after created.\n",
    "#EX:string\n",
    "s='Rohit'\n",
    "s[3]='r'\n",
    "print(s)\n",
    "    \n",
    "#Note::Modification done on the basis of indexing."
   ]
  },
  {
   "cell_type": "code",
   "execution_count": null,
   "id": "957d8e8f",
   "metadata": {},
   "outputs": [],
   "source": []
  }
 ],
 "metadata": {
  "kernelspec": {
   "display_name": "Python 3 (ipykernel)",
   "language": "python",
   "name": "python3"
  },
  "language_info": {
   "codemirror_mode": {
    "name": "ipython",
    "version": 3
   },
   "file_extension": ".py",
   "mimetype": "text/x-python",
   "name": "python",
   "nbconvert_exporter": "python",
   "pygments_lexer": "ipython3",
   "version": "3.9.13"
  }
 },
 "nbformat": 4,
 "nbformat_minor": 5
}
