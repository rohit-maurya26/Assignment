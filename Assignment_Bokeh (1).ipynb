{
 "cells": [
  {
   "cell_type": "code",
   "execution_count": 1,
   "id": "9671b209-1dcc-4c42-9ab7-09e5ba0d698f",
   "metadata": {},
   "outputs": [
    {
     "name": "stderr",
     "output_type": "stream",
     "text": [
      "BokehDeprecationWarning: 'circle() method with size value' was deprecated in Bokeh 3.4.0 and will be removed, use 'scatter(size=...) instead' instead.\n"
     ]
    }
   ],
   "source": [
    "#Q1\n",
    "# we create a Bokeh plot by importing necessary modules from the bokeh.\n",
    "# plotting interface , creating a figure object, adding glyphs (visual markers) to it, and then using show() to display the plot.\n",
    "from bokeh.plotting import figure, show\n",
    "\n",
    "# Create a new plot with a title and axis labels\n",
    "p = figure(title=\"Simple Bokeh Plot\", x_axis_label='x', y_axis_label='y')\n",
    "\n",
    "# Add a circle renderer with size, color, and alpha\n",
    "p.circle([1, 2, 3, 4, 5], [6, 7, 2, 4, 5], size=10, color=\"navy\", alpha=0.5)\n",
    "\n",
    "# Show the results\n",
    "show(p)"
   ]
  },
  {
   "cell_type": "code",
   "execution_count": 3,
   "id": "9295a7d2-a771-464c-9209-be590720e2fa",
   "metadata": {},
   "outputs": [
    {
     "name": "stderr",
     "output_type": "stream",
     "text": [
      "BokehDeprecationWarning: 'circle() method with size value' was deprecated in Bokeh 3.4.0 and will be removed, use 'scatter(size=...) instead' instead.\n"
     ]
    }
   ],
   "source": [
    "#Q2\n",
    "# Glyphs are visual building blocks you add to a Bokeh plot to represent your data. \n",
    "# They include circles, squares, lines, bars, etc. \n",
    "# We add them by calling specific methods on the figure object.\n",
    "from bokeh.plotting import figure, show\n",
    "\n",
    "p = figure(title=\"Glyph Example\", x_axis_label='x', y_axis_label='y')\n",
    "\n",
    "# Add a circle glyph\n",
    "p.circle([1, 2, 3], [4, 5, 6], size=10, color=\"red\")\n",
    "\n",
    "# Add a line glyph\n",
    "p.line([1, 2, 3], [6, 5, 4], line_width=2, color=\"blue\")\n",
    "\n",
    "show(p)"
   ]
  },
  {
   "cell_type": "code",
   "execution_count": 5,
   "id": "12a2fe80-34ae-4a45-a9c7-e7d0536f313b",
   "metadata": {},
   "outputs": [
    {
     "name": "stderr",
     "output_type": "stream",
     "text": [
      "BokehDeprecationWarning: 'circle() method with size value' was deprecated in Bokeh 3.4.0 and will be removed, use 'scatter(size=...) instead' instead.\n"
     ]
    }
   ],
   "source": [
    "#Q3\n",
    "# We customize the appearance by accessing and modifying properties of the figure object and its components (axes, title, legend).\n",
    "from bokeh.plotting import figure, show\n",
    "\n",
    "p = figure(title=\"Customized Plot\", x_axis_label='Values', y_axis_label='Counts')\n",
    "\n",
    "p.circle([1, 2, 3], [4, 5, 6], size=10, color=\"green\", legend_label=\"Data Points\")\n",
    "p.line([1, 2, 3], [6, 5, 4], line_width=2, color=\"orange\", legend_label=\"Trend\")\n",
    "\n",
    "p.title.text_color = \"navy\"\n",
    "p.title.text_font_size = \"16pt\"\n",
    "p.xaxis.axis_label_text_color = \"gray\"\n",
    "p.yaxis.major_label_orientation = \"vertical\"\n",
    "p.legend.location = \"top_left\"\n",
    "\n",
    "show(p)"
   ]
  },
  {
   "cell_type": "code",
   "execution_count": null,
   "id": "8733718e-43a7-4809-b45b-0e0674572f12",
   "metadata": {},
   "outputs": [],
   "source": [
    "#Q4\n",
    "The Bokeh server is a Python process that allows you to create and deploy interactive Bokeh applications. \n",
    "It enables features like updating plots in response to user interactions (e.g., widgets) or streaming data, making real-time updates possible. \n",
    "We define your plot and interactions in Python scripts that the Bokeh server runs"
   ]
  },
  {
   "cell_type": "code",
   "execution_count": null,
   "id": "0b26ab46-e286-474b-82c0-afa436a75ad6",
   "metadata": {},
   "outputs": [],
   "source": [
    "#Q5\n",
    "# You can embed Bokeh plots by using the bokeh.embed module. \n",
    "# This module provides functions like components() that generate the necessary HTML (<script> and <div> tags) to render the Bokeh plot in a web page.\n",
    "# We would typically pass this HTML to your Flask or Django template."
   ]
  }
 ],
 "metadata": {
  "kernelspec": {
   "display_name": "Python [conda env:base] *",
   "language": "python",
   "name": "conda-base-py"
  },
  "language_info": {
   "codemirror_mode": {
    "name": "ipython",
    "version": 3
   },
   "file_extension": ".py",
   "mimetype": "text/x-python",
   "name": "python",
   "nbconvert_exporter": "python",
   "pygments_lexer": "ipython3",
   "version": "3.12.7"
  }
 },
 "nbformat": 4,
 "nbformat_minor": 5
}
