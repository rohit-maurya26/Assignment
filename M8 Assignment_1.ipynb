{
 "cells": [
  {
   "cell_type": "code",
   "execution_count": 39,
   "id": "b2f00467",
   "metadata": {},
   "outputs": [
    {
     "data": {
      "text/plain": [
       "[1, 3, 5, 7, 9, 11, 13, 15, 17, 19, 21, 23]"
      ]
     },
     "execution_count": 39,
     "metadata": {},
     "output_type": "execute_result"
    }
   ],
   "source": [
    "#Asignment 1\n",
    "#Q1\n",
    "# We use the 'def' keyword to create function in python\n",
    "def odd():\n",
    "    l1=[]\n",
    "    for i in range(1,25):\n",
    "        if i%2!=0:\n",
    "            l1.append(i)\n",
    "    return l1\n",
    "odd()\n",
    "\n",
    "\n"
   ]
  },
  {
   "cell_type": "code",
   "execution_count": 46,
   "id": "bfaa72e9",
   "metadata": {},
   "outputs": [
    {
     "data": {
      "text/plain": [
       "{'name': 'Rohit', 'age': 24, 'course': 'Data Science', 'branch': 'IT'}"
      ]
     },
     "execution_count": 46,
     "metadata": {},
     "output_type": "execute_result"
    }
   ],
   "source": [
    "#Q2\n",
    "#'*args' lets us pass any number of arguments to a function. the arguments stored in tuple.\n",
    "#'**kwargs' lets us pass any number of keyword arguments (like name=value) to a function. it store in key value pair\n",
    "#Example *args\n",
    "def mult(*args):\n",
    "    result = 1\n",
    "    for num in args:\n",
    "        result *= num\n",
    "    return result\n",
    "\n",
    "mult(4,5)\n",
    "\n",
    "#Example **kwargs\n",
    "def fun(**kwargs):\n",
    "    return kwargs\n",
    "\n",
    "fun(name=\"Rohit\",age=24,course=\"Data Science\",branch=\"IT\")\n",
    "\n",
    "\n",
    "\n",
    "\n",
    "\n"
   ]
  },
  {
   "cell_type": "code",
   "execution_count": 58,
   "id": "d93eca7b",
   "metadata": {},
   "outputs": [
    {
     "name": "stdout",
     "output_type": "stream",
     "text": [
      "2\n",
      "4\n",
      "6\n",
      "8\n",
      "10\n"
     ]
    }
   ],
   "source": [
    "#Q3\n",
    "#An iterator in Python is an object that allows you to traverse through all the elements of a collection (like a list or a tuple) one at a time\n",
    "#we can use' _iter()_' method to initialise the object and\n",
    "#'_next()_' method to return the next element from collection\n",
    "#Example\n",
    "l1=[2, 4, 6, 8, 10, 12, 14,16, 18, 20]\n",
    "iterate=iter(l1)\n",
    "for i in range(5):\n",
    "  print(next(iterate))\n"
   ]
  },
  {
   "cell_type": "code",
   "execution_count": 60,
   "id": "5e122fd9",
   "metadata": {},
   "outputs": [
    {
     "name": "stdout",
     "output_type": "stream",
     "text": [
      "2\n",
      "3\n",
      "4\n",
      "5\n",
      "6\n",
      "7\n"
     ]
    }
   ],
   "source": [
    "#Q4\n",
    "#A generator function in Python is a special type of function that returns an iterator, which we can iterate over (one value at a time\n",
    "#Instead of using return to send back a value and terminate the function, a generator function uses the yield keyword to return a value and pause the function\n",
    "#yield is used for memory optimization ,it only produce item when requested.\n",
    "\n",
    "#Example\n",
    "def even():\n",
    "    for i in range(2,8):\n",
    "        yield i\n",
    "\n",
    "for num in even():\n",
    "    print(num)\n",
    "\n"
   ]
  },
  {
   "cell_type": "code",
   "execution_count": 67,
   "id": "8ec5010f",
   "metadata": {},
   "outputs": [
    {
     "name": "stdout",
     "output_type": "stream",
     "text": [
      "2\n",
      "3\n",
      "5\n",
      "7\n",
      "11\n",
      "13\n",
      "17\n",
      "19\n",
      "23\n",
      "29\n",
      "31\n",
      "37\n",
      "41\n",
      "43\n",
      "47\n",
      "53\n",
      "59\n",
      "61\n",
      "67\n",
      "71\n"
     ]
    }
   ],
   "source": [
    "#Q5\n",
    "def prime():\n",
    "    for num in range(2, 1000):\n",
    "        for i in range(2, num):\n",
    "            if num % i == 0:\n",
    "                break\n",
    "        else:\n",
    "            yield num\n",
    "            \n",
    "primes = prime()\n",
    "for x in range(20):\n",
    "    print(next(primes))\n",
    "\n"
   ]
  },
  {
   "cell_type": "code",
   "execution_count": 69,
   "id": "ec58e813",
   "metadata": {},
   "outputs": [
    {
     "name": "stdout",
     "output_type": "stream",
     "text": [
      "0\n",
      "1\n",
      "1\n",
      "2\n",
      "3\n",
      "5\n",
      "8\n",
      "13\n",
      "21\n",
      "34\n"
     ]
    }
   ],
   "source": [
    "#Q6\n",
    "a, b = 0, 1\n",
    "count = 0\n",
    "while count < 10:\n",
    "    print(a)\n",
    "    a, b = b, a + b\n",
    "    count += 1\n"
   ]
  },
  {
   "cell_type": "code",
   "execution_count": 71,
   "id": "604f4741",
   "metadata": {},
   "outputs": [
    {
     "name": "stdout",
     "output_type": "stream",
     "text": [
      "['p', 'w', 's', 'k', 'i', 'l', 'l', 's']\n"
     ]
    }
   ],
   "source": [
    "#7\n",
    "l1 = [char for char in 'pwskills']\n",
    "print(l1)\n"
   ]
  },
  {
   "cell_type": "code",
   "execution_count": null,
   "id": "2ddd227d",
   "metadata": {},
   "outputs": [],
   "source": [
    "#Q8\n",
    "def palindrome(n):\n",
    "    org_num = n\n",
    "    rev_num = 0\n",
    "\n",
    "    while n> 0:\n",
    "        rem = n % 10\n",
    "        rev_num = (rev_num * 10) + rem\n",
    "        n = n// 10\n",
    "\n",
    "    return org_num == rev_num\n",
    "\n",
    "number = int(input(\"Enter a number: \"))\n",
    "\n",
    "if palindrome(number):\n",
    "    print(f\"{number} is a palindrome.\")\n",
    "else:\n",
    "    print(f\"{number} is not a palindrome.\")\n"
   ]
  },
  {
   "cell_type": "code",
   "execution_count": null,
   "id": "47a49202",
   "metadata": {},
   "outputs": [],
   "source": [
    "#Q9\n",
    "n = [i for i in range(1, 101)]\n",
    "\n",
    "odd_numbers = [num for num in n if num % 2 != 0]\n",
    "\n",
    "print(odd_numbers)\n",
    "\n"
   ]
  }
 ],
 "metadata": {
  "kernelspec": {
   "display_name": "Python 3 (ipykernel)",
   "language": "python",
   "name": "python3"
  },
  "language_info": {
   "codemirror_mode": {
    "name": "ipython",
    "version": 3
   },
   "file_extension": ".py",
   "mimetype": "text/x-python",
   "name": "python",
   "nbconvert_exporter": "python",
   "pygments_lexer": "ipython3",
   "version": "3.9.13"
  }
 },
 "nbformat": 4,
 "nbformat_minor": 5
}
