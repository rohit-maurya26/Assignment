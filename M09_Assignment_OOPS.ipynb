{
 "cells": [
  {
   "cell_type": "code",
   "execution_count": 30,
   "id": "1eabbff0-08e6-4b2b-95ac-002a2338205c",
   "metadata": {},
   "outputs": [
    {
     "data": {
      "text/plain": [
       "'car'"
      ]
     },
     "execution_count": 30,
     "metadata": {},
     "output_type": "execute_result"
    }
   ],
   "source": [
    "#Q1\n",
    "class vehicle:\n",
    "    def __init__(self,name_of_vehicle,max_speed,average_of_vehicle):\n",
    "      self.name_of_vehicle=name_of_vehicle\n",
    "      self.max_speed=max_speed\n",
    "      self.average_of_vehicle=average_of_vehicle\n",
    "\n",
    "veh=vehicle(\"car\",200,40)\n",
    "veh.average_of_vehicle\n",
    "veh.name_of_vehicle"
   ]
  },
  {
   "cell_type": "code",
   "execution_count": 36,
   "id": "ec913536-35ea-47e7-9aae-2a25b109c497",
   "metadata": {},
   "outputs": [
    {
     "name": "stdout",
     "output_type": "stream",
     "text": [
      "Bike has a seating capacity 2\n"
     ]
    }
   ],
   "source": [
    "#Q2\n",
    "class car(vehicle):\n",
    "    def seating_capacity(self,capacity):\n",
    "       return f\"{self.name_of_vehicle} has a seating capacity {capacity}\"\n",
    "       \n",
    "mycar=car(\"Bike\",200,30)\n",
    "print(mycar.seating_capacity(2))"
   ]
  },
  {
   "cell_type": "code",
   "execution_count": 38,
   "id": "259eeff9-7daf-412e-8aba-fd3b9cb9e778",
   "metadata": {},
   "outputs": [
    {
     "data": {
      "text/plain": [
       "'Playing'"
      ]
     },
     "execution_count": 38,
     "metadata": {},
     "output_type": "execute_result"
    }
   ],
   "source": [
    "#Q3\n",
    "#Multiple Inheritence\n",
    "Multiple Inheritence is a type of inheritence in which the child class inherit the method and variable from more than one parent class.\n",
    "#Example\n",
    "class Animal:\n",
    "    def eat(self):\n",
    "        return \"Eating\"\n",
    "class Pet:\n",
    "    def play(self):\n",
    "        return \"Playing\"\n",
    "class Dog(Animal,Pet):\n",
    "    def bark(self):\n",
    "        return \"Barking\"\n",
    "\n",
    "mydog=Dog()\n",
    "mydog.play()"
   ]
  },
  {
   "cell_type": "code",
   "execution_count": 58,
   "id": "cdeafcfa-452c-49a5-93f2-4c44603bc592",
   "metadata": {},
   "outputs": [
    {
     "data": {
      "text/plain": [
       "26"
      ]
     },
     "execution_count": 58,
     "metadata": {},
     "output_type": "execute_result"
    }
   ],
   "source": [
    "#Q4\n",
    "#Getters and setters are methods that allow you to control access to the attributes (variables) of a class. A getter method retrieves the value of an attribute, and a setter method updates the value of an attribute.\n",
    "class Person:\n",
    "    def __init__(self, name, age):\n",
    "        self.__name = name \n",
    "        self.__age = age    \n",
    "\n",
    "    def get_age(self):\n",
    "        return self.__age\n",
    "\n",
    "    def set_age(self, age):\n",
    "        if age > 0:\n",
    "            self.__age = age\n",
    "        else:\n",
    "            print(\"Please enter a valid age\")\n",
    "person =Person(\"Rohit\",25)\n",
    "\n",
    "person.set_age(26)\n",
    "person.get_age()"
   ]
  },
  {
   "cell_type": "code",
   "execution_count": 60,
   "id": "b466ef71-ea2d-4b9d-9740-f261de166511",
   "metadata": {},
   "outputs": [
    {
     "name": "stdout",
     "output_type": "stream",
     "text": [
      "Barking\n"
     ]
    }
   ],
   "source": [
    "#Q5\n",
    "#Method overriding in Python is a feature that allows a child class to provide a specific implementation of a method that is already defined in its parent class. When a method in a child class has the same name and parameters as a method in the parent class, the child class's method overrides the parent class's method.\n",
    "class Animal:\n",
    "    def sound(self):\n",
    "        return \"Animal sound\"\n",
    "\n",
    "class Dog(Animal):\n",
    "    def sound(self):\n",
    "        return \"Barking\"\n",
    "\n",
    "my_dog = Dog()\n",
    "print(my_dog.sound())  \n"
   ]
  },
  {
   "cell_type": "code",
   "execution_count": null,
   "id": "057d213b-9811-4dcd-ac65-420d5014d3e0",
   "metadata": {},
   "outputs": [],
   "source": []
  }
 ],
 "metadata": {
  "kernelspec": {
   "display_name": "Python [conda env:base] *",
   "language": "python",
   "name": "conda-base-py"
  },
  "language_info": {
   "codemirror_mode": {
    "name": "ipython",
    "version": 3
   },
   "file_extension": ".py",
   "mimetype": "text/x-python",
   "name": "python",
   "nbconvert_exporter": "python",
   "pygments_lexer": "ipython3",
   "version": "3.12.7"
  }
 },
 "nbformat": 4,
 "nbformat_minor": 5
}
