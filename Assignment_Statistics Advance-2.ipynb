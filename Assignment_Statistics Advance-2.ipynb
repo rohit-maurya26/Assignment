{
 "cells": [
  {
   "cell_type": "code",
   "execution_count": null,
   "id": "87d17c69-9836-4f09-af5f-32987f82440d",
   "metadata": {},
   "outputs": [],
   "source": [
    "#Q1\n",
    "PMF:\n",
    "For discrete random variables, the PMF gives the probability that the variable will take on a specific value.\n",
    "\n",
    "Example: Flipping a fair coin. The PMF for the number of heads (X) in one flip is: P(X=0) = 0.5, P(X=1) = 0.5.\n",
    "\n",
    "PDF:\n",
    "For continuous random variables, the PDF describes the likelihood of the variable falling within a certain range of values. \n",
    "The area under the PDF curve over that range gives the probability.\n",
    "\n",
    "Example: Height of adult women. The PDF would show the relative likelihood of different height ranges (e.g., 5'4\" to 5'6\")."
   ]
  },
  {
   "cell_type": "code",
   "execution_count": null,
   "id": "b74bc7ce-f98a-46eb-a102-ca56d88e8474",
   "metadata": {},
   "outputs": [],
   "source": [
    "#Q2\n",
    "CDF: The CDF of a random variable (discrete or continuous) gives the probability that the variable will be less than or equal to a specific value.\n",
    "\n",
    "Example:\n",
    "For the coin flip, the CDF, F(x), would be: F(0) = P(X≤0) = 0.5, F(1) = P(X≤1) = 1.\n",
    "\n",
    "\n",
    "Why used: The CDF is useful for calculating probabilities over intervals (e.g., P(a < X ≤ b) = F(b) - F(a)) and understanding the overall distribution of the data."
   ]
  },
  {
   "cell_type": "code",
   "execution_count": null,
   "id": "91a23cf3-2001-4171-9d05-4942e3a29d3b",
   "metadata": {},
   "outputs": [],
   "source": [
    "#Q3\n",
    "Examples: Heights of people, blood pressure, test scores (often approximately), measurement errors.   \n",
    "    \n",
    "Parameters and Shape:\n",
    "Mean (μ): Determines the center (location) of the bell-shaped curve.\n",
    "Standard Deviation (σ): Determines the spread or width of the curve. A larger σ means a wider, flatter curve; a smaller σ means a narrower, taller curve."
   ]
  },
  {
   "cell_type": "code",
   "execution_count": null,
   "id": "581b4147-7f57-40de-9995-e878f3c8d58e",
   "metadata": {},
   "outputs": [],
   "source": [
    "#Q4\n",
    "Importance: It's fundamental in statistics due to the Central Limit Theorem (many natural phenomena tend towards it), it simplifies many statistical analyses and inferences, and it's a good approximation for many real-world variables. \n",
    "\n",
    "Real-life examples:\n",
    "Human height and weight (in large populations).\n",
    "Errors in measurements.\n",
    "IQ scores.\n",
    "Blood pressure readings."
   ]
  },
  {
   "cell_type": "code",
   "execution_count": null,
   "id": "1aee937b-c859-4930-aeca-7a5f7e934e6b",
   "metadata": {},
   "outputs": [],
   "source": [
    "#Q5\n",
    "Bernoulli Distribution: Represents a single trial with two possible outcomes: success (usually coded as 1) with probability p, and failure (usually coded as 0) with probability 1−p.\n",
    "Example: A single coin flip (Heads = 1, Tails = 0).\n",
    "  \n",
    "Difference: Bernoulli is a single trial, while Binomial is the number of successes in a fixed number (n) of independent and identical Bernoulli trials."
   ]
  },
  {
   "cell_type": "code",
   "execution_count": null,
   "id": "7496b9dd-2863-4536-a27b-18fdb47f50b2",
   "metadata": {},
   "outputs": [],
   "source": [
    "#Q6\n",
    "We need to calculate the Z-score:\n",
    "$Z=(X−μ)/σ=(60−50)/10=1$\n",
    "We want to find P(X>60)=P(Z>1). Looking up the Z-table or using a calculator, the area to the left of Z=1 is approximately 0.8413. Therefore, the area to the right is:\n",
    "P(Z>1)=1−P(Z≤1)=1−0.8413=0.1587\n",
    "\n",
    "The probability that a randomly selected observation will be greater than 60 is approximately 0.1587 or 15.87%."
   ]
  },
  {
   "cell_type": "code",
   "execution_count": null,
   "id": "67833d32-edd8-4447-a41e-4418c6e8088c",
   "metadata": {},
   "outputs": [],
   "source": [
    "#Q7\n",
    "Uniform Distribution: A probability distribution where all possible values within a certain range are equally likely.\n",
    "\n",
    "Example: Rolling a fair six-sided die.\n",
    "Each outcome (1, 2, 3, 4, 5, 6) has an equal probability of 1/6. \n",
    "For a continuous uniform distribution, consider a random number generator producing values between 0 and 1, where every value in that interval has the same probability density."
   ]
  },
  {
   "cell_type": "code",
   "execution_count": null,
   "id": "05ffae92-48f2-4b09-ac1e-e818aa8380ad",
   "metadata": {},
   "outputs": [],
   "source": [
    "#Q8\n",
    "Z-score: A measure of how many standard deviations an individual data point is away from the mean of its distribution.\n",
    "Importance:\n",
    "Standardization: Allows comparison of data points from different normal distributions.\n",
    "Probability Calculation: Used to find probabilities associated with normal distributions using Z-tables or statistical software.\n",
    "Outlier Detection: Helps identify unusual or extreme values in a dataset."
   ]
  },
  {
   "cell_type": "code",
   "execution_count": null,
   "id": "4989a7c5-8c9c-4d77-bc3b-fb66aec2cfad",
   "metadata": {},
   "outputs": [],
   "source": [
    "#Q9\n",
    "Central Limit Theorem (CLT): States that the distribution of the sample mean (or sum) of independent, identically distributed random variables approaches a normal distribution as the sample size increases, regardless of the shape of the original population distribution.\n",
    "Significance:\n",
    "Foundation for Inference: Allows us to make inferences about population means using sample means, even if the population distribution is not normal.\n",
    "Simplifies Statistical Analysis: Many statistical tests and procedures rely on the assumption of normality, which the CLT helps to justify for large sample sizes."
   ]
  },
  {
   "cell_type": "code",
   "execution_count": null,
   "id": "ec5b2a92-6d36-4951-aad9-1c7f3897cd89",
   "metadata": {},
   "outputs": [],
   "source": [
    "#Q10\n",
    "1.Independence: The random variables in the sample must be independent of each other.   \n",
    "2.Identical Distribution: The random variables must be drawn from the same probability distribution.\n",
    "3.Finite Variance: The original population distribution must have a finite variance (σ*σ).\n",
    "\n",
    "Sample Size: While not a strict assumption, a sufficiently large sample size (often n≥30) is generally needed for the theorem to hold effectively."
   ]
  }
 ],
 "metadata": {
  "kernelspec": {
   "display_name": "Python [conda env:base] *",
   "language": "python",
   "name": "conda-base-py"
  },
  "language_info": {
   "codemirror_mode": {
    "name": "ipython",
    "version": 3
   },
   "file_extension": ".py",
   "mimetype": "text/x-python",
   "name": "python",
   "nbconvert_exporter": "python",
   "pygments_lexer": "ipython3",
   "version": "3.12.7"
  }
 },
 "nbformat": 4,
 "nbformat_minor": 5
}
