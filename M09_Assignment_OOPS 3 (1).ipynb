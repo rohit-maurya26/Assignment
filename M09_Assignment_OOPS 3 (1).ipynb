{
 "cells": [
  {
   "cell_type": "code",
   "execution_count": null,
   "id": "a442de16-c622-4d68-b661-c904d71c4f61",
   "metadata": {},
   "outputs": [],
   "source": [
    "#Q1\n",
    "Abstraction in Object-Oriented Programming (OOP) is the concept of hiding complex details and showing only the essential features of an object.For Example we use the Tv remote and we press the button without knowing the working.\n",
    "#Ex\n",
    "    from abc import ABC, abstractmethod\n",
    "class computer(ABC):\n",
    "    @abstractmethod\n",
    "    def process(self):\n",
    "        pass\n",
    "\n",
    "class laptop(computer):\n",
    "    def process(self):\n",
    "        print(\"Its Running\")\n",
    "c1=laptop()\n",
    "c1.process()\n"
   ]
  },
  {
   "cell_type": "code",
   "execution_count": null,
   "id": "15d8eaac-bc7f-44d5-b4f6-5ecfc31b6cec",
   "metadata": {},
   "outputs": [],
   "source": [
    "#Q2\n",
    "Abstraction:\n",
    "Hides the complexity by showing only the essential details to the user.\n",
    "It only focus on what object does.\n",
    "#ex\n",
    "    class CoffeeMachine:\n",
    "    def make_coffee(self):\n",
    "        print(\"Making coffee...\")\n",
    "\n",
    "Encapsulation:\n",
    "Bundles the data (attributes) and methods (functions) that operate on the data into a single unit and restricts access to some components.\n",
    "It focuses on how an object\"s data is protected.\n",
    "#Ex\n",
    "class BankAccount:\n",
    "    def __init__(self, balance):\n",
    "        self.__balance = balance \n",
    "\n",
    "    def deposit(self, amount):\n",
    "        self.__balance += amount\n",
    "\n",
    "    def withdraw(self, amount):\n",
    "        if amount <= self.__balance:\n",
    "            self.__balance -= amount\n",
    "\n",
    "    def get_balance(self):\n",
    "        return self.__balance\n",
    "\n"
   ]
  },
  {
   "cell_type": "code",
   "execution_count": null,
   "id": "64a9fc77-ecfc-4aca-a854-5d6e89bcdab8",
   "metadata": {},
   "outputs": [],
   "source": [
    "#Q3\n",
    "The abc module in Python stands for Abstract Base Classes.\n",
    "It allows us to create abstract classes that serve as blueprints for other classes. An abstract class cannot be instantiated directly and typically includes one or more abstract methods that must be implemented by any subclass.\n",
    "#Ex\n",
    "from abc import ABC, abstractmethod\n",
    "\n",
    "class Animal(ABC):\n",
    "    \n",
    "    @abstractmethod\n",
    "    def make_sound(self):\n",
    "        pass\n",
    "\n",
    "class Dog(Animal):\n",
    "    \n",
    "    def make_sound(self):\n",
    "        return \"Bark\"\n",
    "\n",
    "class Cat(Animal):\n",
    "    \n",
    "    def make_sound(self):\n",
    "        return \"Meow\"\n"
   ]
  },
  {
   "cell_type": "code",
   "execution_count": null,
   "id": "2cbab40a-31e8-4143-bdf2-c05153901213",
   "metadata": {},
   "outputs": [],
   "source": [
    "#Q4\n",
    "we can achieve data abstraction by use the abc module to create abstract classes and methods.\n",
    "#ex\n",
    "from abc import ABC, abstractmethod\n",
    "\n",
    "class Shape(ABC):\n",
    "    \n",
    "    @abstractmethod\n",
    "    def area(self):\n",
    "        pass\n",
    "\n",
    "class Circle(Shape):\n",
    "    \n",
    "    def __init__(self, radius):\n",
    "        self.radius = radius\n",
    "    \n",
    "    def area(self):\n",
    "        return 3.14 * (self.radius ** 2)\n",
    "\n",
    "We can also achieve data abstraction by using Encapsulation"
   ]
  },
  {
   "cell_type": "code",
   "execution_count": null,
   "id": "782b8073-0654-4a40-bd33-d7a68c33b52c",
   "metadata": {},
   "outputs": [],
   "source": [
    "#Q5\n",
    "No, we cannot create an instance of an abstract class."
   ]
  }
 ],
 "metadata": {
  "kernelspec": {
   "display_name": "Python [conda env:base] *",
   "language": "python",
   "name": "conda-base-py"
  },
  "language_info": {
   "codemirror_mode": {
    "name": "ipython",
    "version": 3
   },
   "file_extension": ".py",
   "mimetype": "text/x-python",
   "name": "python",
   "nbconvert_exporter": "python",
   "pygments_lexer": "ipython3",
   "version": "3.12.7"
  }
 },
 "nbformat": 4,
 "nbformat_minor": 5
}
