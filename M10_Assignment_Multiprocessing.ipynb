{
 "cells": [
  {
   "cell_type": "code",
   "execution_count": null,
   "id": "e4b1ded5-d3a0-4178-aece-4e15d8317f84",
   "metadata": {},
   "outputs": [],
   "source": [
    "#Q1\n",
    "\n",
    "Multiprocessing:\n",
    "It is a way to create multiple processes that run independently.\n",
    "Each process has its own memory space and can execute tasks simultaneously.\n",
    "\n",
    "Why it is useful: \n",
    "It improves performance by parallelizing tasks, especially for CPU-bound tasks (tasks that require a lot of computation)."
   ]
  },
  {
   "cell_type": "code",
   "execution_count": null,
   "id": "c8164604-2043-4c12-a1e3-92fd3f44420f",
   "metadata": {},
   "outputs": [],
   "source": [
    "#Q2\n",
    "#Multiprocessing:\n",
    "\n",
    "Uses multiple processes, each with its own memory space.\n",
    "\n",
    "Ideal for CPU-bound tasks.\n",
    "\n",
    "Processes are isolated, reducing the risk of data corruption.\n",
    "\n",
    "Can utilize multiple CPU cores.\n",
    "\n",
    "#Multithreading:\n",
    "\n",
    "Uses multiple threads within the same process, sharing the same memory space.\n",
    "\n",
    "Ideal for I/O-bound tasks (tasks that involve input/output operations).\n",
    "\n",
    "Threads can easily share data, but this increases the risk of data corruption.\n",
    "\n",
    "Limited by the Global Interpreter Lock (GIL) in Python, which can prevent true parallel execution of threads."
   ]
  },
  {
   "cell_type": "code",
   "execution_count": 14,
   "id": "d832182a-5faf-4b17-968f-7103ce4a788a",
   "metadata": {},
   "outputs": [],
   "source": [
    "#Q3\n",
    "import multiprocessing\n",
    "\n",
    "def worker():\n",
    "    print(\"Worker process is running\")\n",
    "\n",
    "if __name__ == \"__main__\":\n",
    "    process = multiprocessing.Process(target=worker)\n",
    "    process.start()\n",
    "    process.join()\n"
   ]
  },
  {
   "cell_type": "code",
   "execution_count": null,
   "id": "bfcfc748-351d-44f1-8244-51b3270926c8",
   "metadata": {},
   "outputs": [],
   "source": [
    "#Q4\n",
    "#Multiprocessing Pool: \n",
    "It is a collection of worker processes that can execute tasks concurrently.\n",
    "\n",
    "#Why it is used: \n",
    "It manages multiple processes efficiently, allowing for the distribution of tasks among the available worker processes.\n",
    "This helps in parallelizing the execution of a function across multiple input values.\n"
   ]
  },
  {
   "cell_type": "code",
   "execution_count": null,
   "id": "5b91acab-d00b-4aad-9ae5-e271f482e7e1",
   "metadata": {},
   "outputs": [],
   "source": [
    "#Q5\n",
    "import multiprocessing\n",
    "\n",
    "def worker_function(x):\n",
    "    return x * x\n",
    "\n",
    "if __name__ == \"__main__\":\n",
    "    with multiprocessing.Pool(processes=4) as pool:\n",
    "        results = pool.map(worker_function, [1, 2, 3, 4, 5])\n",
    "        print(results)\n"
   ]
  },
  {
   "cell_type": "code",
   "execution_count": null,
   "id": "b6e6f0d2-8567-4dbe-86a8-590970874706",
   "metadata": {},
   "outputs": [],
   "source": [
    "#Q6\n",
    "import multiprocessing\n",
    "\n",
    "def print_number(number):\n",
    "    print(f\"Process {number} is printing number {number}\")\n",
    "\n",
    "if __name__ == \"__main__\":\n",
    "    processes = []\n",
    "    for i in range(4):\n",
    "        process = multiprocessing.Process(target=print_number, args=(i,))\n",
    "        processes.append(process)\n",
    "        process.start()\n",
    "\n",
    "    for process in processes:\n",
    "        process.join()\n",
    "\n"
   ]
  },
  {
   "cell_type": "code",
   "execution_count": null,
   "id": "5d6d1231-e3da-4b3a-ac02-3c6370d6fbb1",
   "metadata": {},
   "outputs": [],
   "source": []
  }
 ],
 "metadata": {
  "kernelspec": {
   "display_name": "Python [conda env:base] *",
   "language": "python",
   "name": "conda-base-py"
  },
  "language_info": {
   "codemirror_mode": {
    "name": "ipython",
    "version": 3
   },
   "file_extension": ".py",
   "mimetype": "text/x-python",
   "name": "python",
   "nbconvert_exporter": "python",
   "pygments_lexer": "ipython3",
   "version": "3.12.7"
  }
 },
 "nbformat": 4,
 "nbformat_minor": 5
}
