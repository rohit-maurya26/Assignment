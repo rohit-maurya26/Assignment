{
 "cells": [
  {
   "cell_type": "code",
   "execution_count": null,
   "id": "1777e120-0bbc-44a6-9144-e8aa9038803b",
   "metadata": {},
   "outputs": [],
   "source": [
    "#Q1\n",
    "The probability density function (PDF) describes the likelihood of a continuous random variable taking on a specific value.\n",
    "The area under the PDF curve over a given interval represents the probability that the variable falls within that interval."
   ]
  },
  {
   "cell_type": "code",
   "execution_count": null,
   "id": "09a806dd-d039-4c3a-b0da-26389d205dd7",
   "metadata": {},
   "outputs": [],
   "source": [
    "#Q2\n",
    "There are many types, broadly categorized into:\n",
    "\n",
    "Discrete: Bernoulli, Binomial, Poisson, Geometric, Negative Binomial.\n",
    "\n",
    "Continuous: Normal (Gaussian), Exponential, Uniform, Gamma, Beta."
   ]
  },
  {
   "cell_type": "code",
   "execution_count": 3,
   "id": "7be03c77-1ad1-4225-81a8-c9eae88fc160",
   "metadata": {},
   "outputs": [],
   "source": [
    "#Q3\n",
    "import numpy as np\n",
    "\n",
    "def normal_pdf(x, mean, std_dev):\n",
    " \n",
    "  exponent = -((x - mean) ** 2) / (2 * std_dev ** 2)\n",
    "  coefficient = 1 / (std_dev * np.sqrt(2 * np.pi))\n",
    "  return coefficient * np.exp(exponent)"
   ]
  },
  {
   "cell_type": "code",
   "execution_count": null,
   "id": "48954f7c-0328-4ddf-9ec4-593765581a67",
   "metadata": {},
   "outputs": [],
   "source": [
    "#Q4\n",
    "Properties:\n",
    "\n",
    "Fixed number of trials (n).\n",
    "Each trial is independent.\n",
    "Only two possible outcomes (success and failure).\n",
    "Probability of success (p) is constant for each trial.\n",
    "    \n",
    "Examples:\n",
    "\n",
    "Tossing a coin a fixed number of times and counting the number of heads.\n",
    "Inspecting a batch of manufactured items for defects and counting the number of defective items.\n"
   ]
  },
  {
   "cell_type": "code",
   "execution_count": 5,
   "id": "578649a9-1ec6-4c79-8c1d-d80423064775",
   "metadata": {},
   "outputs": [
    {
     "data": {
      "image/png": "[encoded data removed]",
      "text/plain": [
       "<Figure size 640x480 with 1 Axes>"
      ]
     },
     "metadata": {},
     "output_type": "display_data"
    }
   ],
   "source": [
    "#Q5\n",
    "import numpy as np\n",
    "import matplotlib.pyplot as plt\n",
    "\n",
    "\n",
    "sample = np.random.binomial(n=10, p=0.4, size=1000)\n",
    "\n",
    "\n",
    "plt.hist(sample, bins=np.arange(0, 12) - 0.5, edgecolor='black')\n",
    "plt.xlabel(\"Number of Successes\")\n",
    "plt.ylabel(\"Frequency\")\n",
    "plt.title(\"Histogram of Binomial Distribution (n=10, p=0.4)\")\n",
    "plt.xticks(range(0, 11))\n",
    "plt.grid(axis='y', alpha=0.75)\n",
    "plt.show()"
   ]
  },
  {
   "cell_type": "code",
   "execution_count": 7,
   "id": "b2229891-964c-4ebf-8b5f-9008bfd7afd5",
   "metadata": {},
   "outputs": [],
   "source": [
    "#Q6\n",
    "import math\n",
    "\n",
    "def poisson_cdf(k, mean):\n",
    "\n",
    "  cdf = 0\n",
    "  for i in range(k + 1):\n",
    "    cdf += (mean ** i * math.exp(-mean)) / math.factorial(i)\n",
    "  return cdf"
   ]
  },
  {
   "cell_type": "code",
   "execution_count": null,
   "id": "ec65fb0a-8453-461c-8ac9-6cf3db067003",
   "metadata": {},
   "outputs": [],
   "source": [
    "#Q7\n",
    "Binomial: \n",
    "        Fixed number of tries, two outcomes (success/failure), counts successes\n",
    "\n",
    "Poisson: \n",
    "        Counts rare events in a time/space, no fixed tries."
   ]
  },
  {
   "cell_type": "code",
   "execution_count": 9,
   "id": "10a73b89-526e-402c-81af-0b393c95caf4",
   "metadata": {},
   "outputs": [
    {
     "name": "stdout",
     "output_type": "stream",
     "text": [
      "Sample Mean: 4.99\n",
      "Sample Variance: 5.11\n"
     ]
    }
   ],
   "source": [
    "#Q8\n",
    "import numpy as np\n",
    "\n",
    "\n",
    "sample = np.random.poisson(lam=5, size=1000)\n",
    "\n",
    "\n",
    "sample_mean = np.mean(sample)\n",
    "sample_variance = np.var(sample)\n",
    "\n",
    "print(f\"Sample Mean: {sample_mean:.2f}\")\n",
    "print(f\"Sample Variance: {sample_variance:.2f}\")"
   ]
  },
  {
   "cell_type": "code",
   "execution_count": null,
   "id": "9fead27f-997e-430c-80bb-f6a6301dd3fc",
   "metadata": {},
   "outputs": [],
   "source": [
    "#Q9\n",
    "Binomial Distribution: Mean (μ) = np, Variance (σ \n",
    "2\n",
    " ) = np(1−p). Note that the variance is always less than or equal to the mean.\n",
    "Poisson Distribution: Mean (μ) = λ, Variance (σ \n",
    "2\n",
    " ) = λ. The mean and variance are equal."
   ]
  },
  {
   "cell_type": "code",
   "execution_count": null,
   "id": "071eb499-0834-427c-8d5a-9decde22e8b3",
   "metadata": {},
   "outputs": [],
   "source": [
    "#Q10\n",
    "In a normal distribution, the least frequent data points appear in the tails, which are the regions farthest away from the mean on both the left and right sides of the distribution curve. \n",
    "The probability density decreases as you move further from the mean.   "
   ]
  }
 ],
 "metadata": {
  "kernelspec": {
   "display_name": "Python [conda env:base] *",
   "language": "python",
   "name": "conda-base-py"
  },
  "language_info": {
   "codemirror_mode": {
    "name": "ipython",
    "version": 3
   },
   "file_extension": ".py",
   "mimetype": "text/x-python",
   "name": "python",
   "nbconvert_exporter": "python",
   "pygments_lexer": "ipython3",
   "version": "3.12.7"
  }
 },
 "nbformat": 4,
 "nbformat_minor": 5
}
