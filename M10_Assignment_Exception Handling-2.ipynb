{
 "cells": [
  {
   "cell_type": "code",
   "execution_count": null,
   "id": "34b3c98e-c257-4400-a29e-61d091d106bd",
   "metadata": {},
   "outputs": [],
   "source": [
    "#Q1\n",
    "We use the Exception class as the base class to create custom exceptions because it provides the fundamental functionality for handling errors.\n",
    "This helps in defining our own specific error types in a clear and consistent way.\n",
    "#Ex:\n",
    "import logging\n",
    "\n",
    "logging.basicConfig(filename=\"error.log\" , level=logging.ERROR)\n",
    "\n",
    "class CustomError(Exception):\n",
    "    pass\n",
    "\n",
    "try:\n",
    "    raise CustomError(\"This is a custom error\")\n",
    "except CustomError as e:\n",
    "    logging.error(\"An error occurred: %s\", e)\n",
    "\n"
   ]
  },
  {
   "cell_type": "code",
   "execution_count": 4,
   "id": "9ced2849-49df-479e-8368-3352ad7f8037",
   "metadata": {},
   "outputs": [],
   "source": [
    "#Q2\n",
    "import logging\n",
    "import inspect\n",
    "\n",
    "logging.basicConfig(filename=\"error.log\" ,level=logging.ERROR)\n",
    "\n",
    "def print_exception_hierarchy(exc_class, level=0):\n",
    "    logging.info(' ' * level + exc_class.__name__)\n",
    "    for subclass in exc_class.__subclasses__():\n",
    "        print_exception_hierarchy(subclass, level + 1)\n",
    "\n",
    "try:\n",
    "    print_exception_hierarchy(BaseException)\n",
    "except Exception as e:\n",
    "    logging.error(\"An error occurred: %s\", e)\n"
   ]
  },
  {
   "cell_type": "code",
   "execution_count": null,
   "id": "f3cfc80d-5660-442c-9794-d9dcea8888cb",
   "metadata": {},
   "outputs": [],
   "source": [
    "#Q3\n",
    "ArithmeticError is the base class for errors that occur during numeric calculations. \n",
    "Two common errors are ZeroDivisionError and OverflowError.\n",
    "\n",
    "#Ex:\n",
    "  import logging\n",
    "\n",
    "logging.basicConfig(filename=\"error.log\" ,level=logging.ERROR)\n",
    "\n",
    "try:\n",
    "    result = 10 / 0  \n",
    "except ZeroDivisionError as e:\n",
    "    logging.error(\"ZeroDivisionError: %s\", e)\n",
    "\n",
    "try:\n",
    "    result = 2.0 ** 10000 \n",
    "except OverflowError as e:\n",
    "    logging.error(\"OverflowError: %s\", e)\n",
    "  "
   ]
  },
  {
   "cell_type": "code",
   "execution_count": null,
   "id": "3f4dcd83-4bdc-4e9b-a9ce-fc2fd685f623",
   "metadata": {},
   "outputs": [],
   "source": [
    "#Q4\n",
    "LookupError is the base class for errors that occur when a lookup fails, like accessing an invalid index in a list or a non-existent key in a dictionary.\n",
    "#Ex:\n",
    "import logging\n",
    "\n",
    "logging.basicConfig(filename=\"error.log\" ,level=logging.ERROR)\n",
    "\n",
    "try:\n",
    "    my_dict = {'a': 1}\n",
    "    value = my_dict['b']  \n",
    "except KeyError as e:\n",
    "    logging.error(\"KeyError: %s\", e)\n",
    "\n",
    "try:\n",
    "    my_list = [1, 2, 3]\n",
    "    value = my_list[5]  \n",
    "except IndexError as e:\n",
    "    logging.error(\"IndexError: %s\", e)\n"
   ]
  },
  {
   "cell_type": "code",
   "execution_count": null,
   "id": "c6a928e6-da18-4ff3-89bd-7b4fab6ac254",
   "metadata": {},
   "outputs": [],
   "source": [
    "#Q5\n",
    "ImportError occurs when an import statement fails to find the module definition.\n",
    "ModuleNotFoundError is a specific type of ImportError raised when a module cannot be found.\n",
    "\n",
    "#Ex:\n",
    "    import logging\n",
    "\n",
    "logging.basicConfig(filename='error.log' ,level=logging.ERROR)\n",
    "\n",
    "try:\n",
    "    import non_existent_module  \n",
    "except ModuleNotFoundError as e:\n",
    "    logging.error(\"ModuleNotFoundError: %s\", e)\n",
    "except ImportError as e:\n",
    "    logging.error(\"ImportError: %s\", e)\n"
   ]
  },
  {
   "cell_type": "code",
   "execution_count": 6,
   "id": "a6593d1e-40bc-4fed-b378-c1c3fb9b0fee",
   "metadata": {},
   "outputs": [
    {
     "name": "stderr",
     "output_type": "stream",
     "text": [
      "ERROR:root:An error occurred: division by zero\n"
     ]
    }
   ],
   "source": [
    "#Q6\n",
    "import logging\n",
    "\n",
    "logging.basicConfig(filename='error.log' ,level=logging.ERROR)\n",
    "\n",
    "try:\n",
    "    result = 10 / 0\n",
    "except ZeroDivisionError as e:\n",
    "    logging.error(\"An error occurred: %s\", e)\n",
    "finally:\n",
    "    logging.info(\"Execution completed.\")\n"
   ]
  },
  {
   "cell_type": "code",
   "execution_count": null,
   "id": "2d786a11-4896-44a6-9d39-46f60ab106f3",
   "metadata": {},
   "outputs": [],
   "source": []
  }
 ],
 "metadata": {
  "kernelspec": {
   "display_name": "Python [conda env:base] *",
   "language": "python",
   "name": "conda-base-py"
  },
  "language_info": {
   "codemirror_mode": {
    "name": "ipython",
    "version": 3
   },
   "file_extension": ".py",
   "mimetype": "text/x-python",
   "name": "python",
   "nbconvert_exporter": "python",
   "pygments_lexer": "ipython3",
   "version": "3.12.7"
  }
 },
 "nbformat": 4,
 "nbformat_minor": 5
}
