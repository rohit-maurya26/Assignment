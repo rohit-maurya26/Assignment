{
 "cells": [
  {
   "cell_type": "code",
   "execution_count": null,
   "id": "44b03273-009e-45f6-84cd-2db1eec22216",
   "metadata": {},
   "outputs": [],
   "source": [
    "#Q1\n",
    "Mean, median, and mode."
   ]
  },
  {
   "cell_type": "code",
   "execution_count": null,
   "id": "1fbcffe5-f822-4fdd-aa16-8c6af11c4912",
   "metadata": {},
   "outputs": [],
   "source": [
    "#Q2\n",
    "Mean: The average (sum of values divided by the number of values). \n",
    "      Represents the balancing point of the data.\n",
    "\n",
    "Median: The middle value when the data is ordered. \n",
    "        Represents the physical center of the data.\n",
    "\n",
    "Mode: The most frequently occurring value. \n",
    "      Represents the most typical value."
   ]
  },
  {
   "cell_type": "code",
   "execution_count": null,
   "id": "e5429999-b889-456d-b2d3-4b6170dd0a86",
   "metadata": {},
   "outputs": [],
   "source": [
    "#Q3\n",
    "Mean:  \n",
    "(178+177+176+177+178.2+175+179+180+175+178.9+176.2+177+172.5+178+176.5)/15=(2664.3)/15\n",
    "\n",
    " ≈177.62\n",
    "\n",
    "Median: First, order the data: [172.5, 175, 175, 176, 176.2, 176.5, 177, 177, 178, 178, 178.2, 178.9, 179, 180]. The middle value (8th) is 177.\n",
    "\n",
    "Mode: The values 177 and 178 appear twice, which is more than any other value. So, the modes are 177 and 178 ."
   ]
  },
  {
   "cell_type": "code",
   "execution_count": null,
   "id": "0622fd29-8451-4053-a96c-d7f48bcea5d8",
   "metadata": {},
   "outputs": [],
   "source": [
    "#Q5\n",
    "Measures of dispersion indicate how spread out or clustered the data points are.\n",
    "\n",
    "Range: Shows the total spread (max - min). \n",
    "Example: Heights ranging from 172.5 cm to 180 cm indicate an 7.5 cm spread.\n",
    "    \n",
    "Variance: Average squared deviation from the mean.\n",
    "Example: A higher variance in test scores between two classes indicates greater variability in student performance in that class.\n",
    "\n",
    "Standard Deviation: Typical deviation of data points from the mean.\n",
    "Example: A standard deviation of 2.04 cm in heights suggests that most heights are within roughly 2.04 cm of the average height."
   ]
  },
  {
   "cell_type": "code",
   "execution_count": null,
   "id": "5b92953f-6258-4000-bb3e-a205829df3c1",
   "metadata": {},
   "outputs": [],
   "source": [
    "#Q6\n",
    "A Venn diagram is a visual representation using overlapping circles to show the relationships between sets, including their intersections and unions."
   ]
  },
  {
   "cell_type": "code",
   "execution_count": null,
   "id": "8d89427a-6ddf-4b8d-916a-a2a96f06ae22",
   "metadata": {},
   "outputs": [],
   "source": [
    "#Q7\n",
    "(i) A ∩ B (Intersection: elements common to both A and B) = {2,6}\n",
    "\n",
    "(ii) A ∪ B (Union: all elements in A or B or both) = {0,2,3,4,5,6,7,8,10}"
   ]
  },
  {
   "cell_type": "code",
   "execution_count": null,
   "id": "50fa9be8-4348-4d98-812b-a287e698c49c",
   "metadata": {},
   "outputs": [],
   "source": [
    "#Q8\n",
    "Skewness refers to the asymmetry in the distribution of data. \n",
    "A distribution can be positively skewed (tail extends to the right), negatively skewed (tail extends to the left), or have no skew (symmetrical)."
   ]
  },
  {
   "cell_type": "code",
   "execution_count": null,
   "id": "28182270-7a54-4375-8af8-39e15f4fc9f8",
   "metadata": {},
   "outputs": [],
   "source": [
    "#Q9\n",
    "In a right-skewed distribution, the mean is typically greater than the median. \n",
    "The long tail on the right pulls the mean towards higher values, while the median, being the middle value, is less affected by extreme values"
   ]
  },
  {
   "cell_type": "code",
   "execution_count": null,
   "id": "528f73d9-d497-4b08-8925-9ef54acbb22d",
   "metadata": {},
   "outputs": [],
   "source": [
    "#Q10\n",
    "Covariance: Measures the direction of the linear relationship between two variables. \n",
    "            A positive value indicates a tendency for both to increase together, a negative value indicates one tends to decrease as the other increases, and zero suggests no linear relationship.\n",
    "            However, its magnitude is not easily interpretable as it depends on the variables' scales.   \n",
    "\n",
    "\n",
    "Correlation: A standardized measure of the linear relationship between two variables, ranging from -1 to +1. \n",
    "             It indicates both the direction and the strength of the linear relationship. +1 is a perfect positive correlation, -1 is a perfect negative correlation, and 0 indicates no linear correlation."
   ]
  },
  {
   "cell_type": "code",
   "execution_count": null,
   "id": "1f8a7bfd-29e3-44f8-a6dd-4cc40a4da67a",
   "metadata": {},
   "outputs": [],
   "source": [
    "#Q12\n",
    "For a normal distribution, the mean, median, and mode are all equal and located at the center of the symmetrical bell-shaped curve"
   ]
  },
  {
   "cell_type": "code",
   "execution_count": null,
   "id": "888dc6b0-da59-44b3-befc-21d821d79ce5",
   "metadata": {},
   "outputs": [],
   "source": [
    "#Q13\n",
    "Covariance indicates the direction of a linear relationship but its magnitude is hard to interpret due to its dependence on the scales of the variables.\n",
    "    \n",
    "Correlation standardizes this measure, providing a value between -1 and +1 that indicates both the direction and strength of the linear relationship, making it easier to interpret and compare."
   ]
  },
  {
   "cell_type": "code",
   "execution_count": null,
   "id": "da9bb258-b59f-4266-b056-f6ee9f0a9cdd",
   "metadata": {},
   "outputs": [],
   "source": [
    "#Q14\n",
    "Outliers are extreme values that can significantly impact some measures.   \n",
    "\n",
    "Central Tendency: The mean is highly sensitive to outliers. The median and mode are less affected.\n",
    "Dispersion: The range is very sensitive to outliers. Variance and standard deviation are also affected as they consider the squared deviations from the mean.\n",
    "Example: Consider the dataset {10, 12, 15, 18, 100}.\n",
    "* Mean without outlier: (10+12+15+18)/4 = 13.75. Mean with outlier: (10+12+15+18+100)/5 = 31.\n",
    "* Median without outlier: 13.5. Median with outlier: 15.\n",
    "* Range without outlier: 18 - 10 = 8. Range with outlier: 100 - 10 = 90.\n",
    "* The outlier drastically increased the mean and the range. The median was less affected."
   ]
  }
 ],
 "metadata": {
  "kernelspec": {
   "display_name": "Python [conda env:base] *",
   "language": "python",
   "name": "conda-base-py"
  },
  "language_info": {
   "codemirror_mode": {
    "name": "ipython",
    "version": 3
   },
   "file_extension": ".py",
   "mimetype": "text/x-python",
   "name": "python",
   "nbconvert_exporter": "python",
   "pygments_lexer": "ipython3",
   "version": "3.12.7"
  }
 },
 "nbformat": 4,
 "nbformat_minor": 5
}
