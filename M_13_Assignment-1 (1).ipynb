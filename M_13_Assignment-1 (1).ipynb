{
 "cells": [
  {
   "cell_type": "code",
   "execution_count": 7,
   "id": "8c498eb0-6f10-42b8-861d-5ec71f920ed2",
   "metadata": {},
   "outputs": [
    {
     "name": "stdout",
     "output_type": "stream",
     "text": [
      "0     4\n",
      "1     8\n",
      "2    15\n",
      "3    16\n",
      "4    23\n",
      "5    42\n",
      "dtype: int64\n"
     ]
    },
    {
     "data": {
      "text/plain": [
       "pandas.core.series.Series"
      ]
     },
     "execution_count": 7,
     "metadata": {},
     "output_type": "execute_result"
    }
   ],
   "source": [
    "#Q1\n",
    "import pandas as pd\n",
    "data=[4,8,15,16,23,42]\n",
    "series=pd.Series(data)\n",
    "print(series)\n",
    "type(series)"
   ]
  },
  {
   "cell_type": "code",
   "execution_count": 9,
   "id": "989c37d1-1817-419c-a872-086e9ecc946f",
   "metadata": {},
   "outputs": [
    {
     "data": {
      "text/plain": [
       "0     2\n",
       "1     6\n",
       "2     9\n",
       "3    56\n",
       "4    80\n",
       "5    65\n",
       "6    23\n",
       "7    44\n",
       "8    53\n",
       "9    10\n",
       "dtype: int64"
      ]
     },
     "execution_count": 9,
     "metadata": {},
     "output_type": "execute_result"
    }
   ],
   "source": [
    "#Q2\n",
    "import pandas as pd\n",
    "L1=[2,6,9,56,80,65,23,44,53,10]\n",
    "pd.Series(L1)"
   ]
  },
  {
   "cell_type": "code",
   "execution_count": 11,
   "id": "eec2f9c3-1b41-4e6f-97ac-99a5d1813628",
   "metadata": {},
   "outputs": [
    {
     "data": {
      "text/html": [
       "<div>\n",
       "<style scoped>\n",
       "    .dataframe tbody tr th:only-of-type {\n",
       "        vertical-align: middle;\n",
       "    }\n",
       "\n",
       "    .dataframe tbody tr th {\n",
       "        vertical-align: top;\n",
       "    }\n",
       "\n",
       "    .dataframe thead th {\n",
       "        text-align: right;\n",
       "    }\n",
       "</style>\n",
       "<table border=\"1\" class=\"dataframe\">\n",
       "  <thead>\n",
       "    <tr style=\"text-align: right;\">\n",
       "      <th></th>\n",
       "      <th>Name</th>\n",
       "      <th>Age</th>\n",
       "      <th>Gender</th>\n",
       "    </tr>\n",
       "  </thead>\n",
       "  <tbody>\n",
       "    <tr>\n",
       "      <th>0</th>\n",
       "      <td>Alice</td>\n",
       "      <td>25</td>\n",
       "      <td>Female</td>\n",
       "    </tr>\n",
       "    <tr>\n",
       "      <th>1</th>\n",
       "      <td>Bob</td>\n",
       "      <td>30</td>\n",
       "      <td>Male</td>\n",
       "    </tr>\n",
       "    <tr>\n",
       "      <th>2</th>\n",
       "      <td>Claire</td>\n",
       "      <td>27</td>\n",
       "      <td>Female</td>\n",
       "    </tr>\n",
       "  </tbody>\n",
       "</table>\n",
       "</div>"
      ],
      "text/plain": [
       "     Name  Age  Gender\n",
       "0   Alice   25  Female\n",
       "1     Bob   30    Male\n",
       "2  Claire   27  Female"
      ]
     },
     "execution_count": 11,
     "metadata": {},
     "output_type": "execute_result"
    }
   ],
   "source": [
    "#Q3\n",
    "import pandas as pd\n",
    "data={'Name':['Alice','Bob','Claire'],\n",
    "      'Age':[25,30,27],\n",
    "      'Gender':['Female','Male','Female']}\n",
    "pd.DataFrame(data)"
   ]
  },
  {
   "cell_type": "code",
   "execution_count": null,
   "id": "0a474e20-03fa-45f6-b78f-20b472055dd0",
   "metadata": {},
   "outputs": [],
   "source": [
    "#Q4\n",
    "DataFrame:\n",
    "A DataFrame is a 2-dimensional labeled data structure with columns of potentially different types.\n",
    "We can think of it as a spreadsheet or SQL table, or a dictionary of Series objects.\n",
    "\n",
    "Series:\n",
    "A Series is a 1-dimensional labeled array capable of holding any data type (integers, strings, floating-point numbers, Python objects, etc.).\n",
    "\n",
    "#Example:\n",
    "import pandas as pd\n",
    "\n",
    "#Series\n",
    "series_data = pd.Series([10, 20, 30, 40, 50])\n",
    "print(\"Series:\")\n",
    "print(series_data)\n",
    "\n",
    "# Creating a DataFrame\n",
    "data = {'Name': ['Alice', 'Bob', 'Charlie', 'David'],\n",
    "        'Age': [25, 30, 22, 35],\n",
    "        'City': ['New York', 'London', 'Tokyo', 'Paris']}\n",
    "dataframe_data = pd.DataFrame(data)\n",
    "print(\"\\nDataFrame:\")\n",
    "print(dataframe_data)"
   ]
  },
  {
   "cell_type": "code",
   "execution_count": null,
   "id": "07638263-48c8-479b-862c-114f7594f865",
   "metadata": {},
   "outputs": [],
   "source": [
    "#Q5\n",
    "head() and tail():\n",
    "Display the first or last 'n' rows.\n",
    "\n",
    "info(): \n",
    "Provides a concise summary of the DataFrame.\n",
    "\n",
    "describe():\n",
    "\n",
    "Generates descriptive statistics.\n",
    "\n",
    "#Example\n",
    "import pandas as pd\n",
    "\n",
    "data = {'Category': ['Electronics', 'Clothing', 'Electronics', 'Clothing', 'Books'],\n",
    "        'Sales': [100, 50, 150, 75, 80]}\n",
    "sales_df = pd.DataFrame(data)\n",
    "sales_df.describe()"
   ]
  },
  {
   "cell_type": "code",
   "execution_count": null,
   "id": "92dcc9b3-9ad0-4e1e-990b-8867fb01fe24",
   "metadata": {},
   "outputs": [],
   "source": [
    "#Q6\n",
    "Series: Mutable.\n",
    "DataFrame: Mutable.\n",
    "Panel: Mutable (though Panels are less frequently used now, and have been largely superseded by multi-index DataFrames)."
   ]
  },
  {
   "cell_type": "code",
   "execution_count": 13,
   "id": "c4202a15-1150-4100-af2d-0e908ee31bfa",
   "metadata": {},
   "outputs": [
    {
     "name": "stdout",
     "output_type": "stream",
     "text": [
      "      Name  Age      City\n",
      "0    Alice   25  New York\n",
      "1      Bob   30    London\n",
      "2  Charlie   28     Tokyo\n"
     ]
    }
   ],
   "source": [
    "#Q7\n",
    "import pandas as pd\n",
    "\n",
    "# Create Series for names, ages, and cities\n",
    "names = pd.Series(['Alice', 'Bob', 'Charlie'])\n",
    "ages = pd.Series([25, 30, 28])\n",
    "cities = pd.Series(['New York', 'London', 'Tokyo'])\n",
    "\n",
    "# Create a DataFrame using a dictionary of Series\n",
    "data = {'Name': names, 'Age': ages, 'City': cities}\n",
    "df = pd.DataFrame(data)\n",
    "\n",
    "print(df)"
   ]
  },
  {
   "cell_type": "code",
   "execution_count": null,
   "id": "16579e08-2427-4991-bbf4-4ead9eef78cf",
   "metadata": {},
   "outputs": [],
   "source": []
  }
 ],
 "metadata": {
  "kernelspec": {
   "display_name": "Python [conda env:base] *",
   "language": "python",
   "name": "conda-base-py"
  },
  "language_info": {
   "codemirror_mode": {
    "name": "ipython",
    "version": 3
   },
   "file_extension": ".py",
   "mimetype": "text/x-python",
   "name": "python",
   "nbconvert_exporter": "python",
   "pygments_lexer": "ipython3",
   "version": "3.12.7"
  }
 },
 "nbformat": 4,
 "nbformat_minor": 5
}
