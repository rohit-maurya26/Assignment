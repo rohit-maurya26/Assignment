{
 "cells": [
  {
   "cell_type": "code",
   "execution_count": null,
   "id": "3ee7d566-e562-406e-812e-44bc4ffb9247",
   "metadata": {},
   "outputs": [],
   "source": [
    "#Q1\n",
    "#API (Application Programming Interface):\n",
    "An API is used to comunicate with different systems or languages .\n",
    "An API takes requests from one software and brings the response from another software.\n",
    "\n",
    "#Example:\n",
    "When you use a weather app on your phone, it uses an API to request weather data from a server and then shows you the weather report."
   ]
  },
  {
   "cell_type": "code",
   "execution_count": null,
   "id": "2af5d75f-7112-4d0e-a6a3-743e36a78ef4",
   "metadata": {},
   "outputs": [],
   "source": [
    "#Q2\n",
    "#Advantages:\n",
    "\n",
    ">>Easy Integration:- Connect different software easily.\n",
    "\n",
    ">>Efficiency:- Save time and effort by reusing existing functions.\n",
    "\n",
    ">>Scalability:- Easily add more features without changing the whole system.\n",
    "\n",
    "#Disadvantages:\n",
    "\n",
    ">>Security Risks:- If not properly secured, they can be exploited.\n",
    "\n",
    ">>Complexity:- Some APIs can be hard to learn and use.\n",
    "\n",
    ">>Dependency:- Relying on third-party APIs can be risky if they change or shut down."
   ]
  },
  {
   "cell_type": "code",
   "execution_count": null,
   "id": "292be45a-271c-40af-9145-747c4eb8b506",
   "metadata": {},
   "outputs": [],
   "source": [
    "#Q3\n",
    "# Web API:\n",
    "It's an API that uses the internet to communicate between systems.\n",
    "\n",
    "Difference:\n",
    "\n",
    "API:>> General term for any set of tools that lets different software communicate.\n",
    "\n",
    "Web API:>> Specifically uses the web to communicate, like through HTTP.\n",
    "\n",
    "#Example: \n",
    "A mobile app using Google Maps to show locations is using a Web API to get map data from Google's servers via the internet."
   ]
  },
  {
   "cell_type": "code",
   "execution_count": null,
   "id": "0680d79f-b2e6-4532-83dc-b7538c7dccf2",
   "metadata": {},
   "outputs": [],
   "source": [
    "#Q4\n",
    "#REST (Representational State Transfer):\n",
    "\n",
    ">Uses standard HTTP methods (GET, POST, PUT, DELETE).\n",
    "\n",
    ">Stateless, meaning each request from a client to the server must contain all the information the server needs to fulfill that request.\n",
    "\n",
    ">Easy to understand and use.\n",
    "\n",
    "#SOAP (Simple Object Access Protocol):\n",
    "\n",
    ">Uses XML to encode messages.\n",
    "\n",
    ">Can be more complex and heavy.\n",
    "\n",
    ">Ensures higher security and transactions.\n",
    "\n",
    "#Shortcomings of SOAP:\n",
    "\n",
    "Complex:> More difficult to implement and understand.\n",
    "\n",
    "Slower:> Larger message sizes can reduce performance.\n",
    "\n",
    "Rigid:> Requires strict standards, less flexibility.\n",
    "\n",
    "#Example:\n",
    "\n",
    "REST: When we browse a website and see a list of products, each click retrieves data using RESTful methods.\n",
    "\n",
    "SOAP: Used in scenarios needing high security, like financial services."
   ]
  },
  {
   "cell_type": "code",
   "execution_count": null,
   "id": "6da00f96-51ed-4110-9da5-5033d3bf1219",
   "metadata": {},
   "outputs": [],
   "source": [
    "#Q5\n",
    "#REST:\n",
    "\n",
    "Simpler and faster.\n",
    "\n",
    "Uses standard web protocols.\n",
    "\n",
    "Stateless and cacheable.\n",
    "\n",
    "Ideal for web services requiring quick and easy data retrieval.\n",
    "\n",
    "#SOAP:\n",
    "\n",
    "More secure and reliable.\n",
    "\n",
    "Uses XML and strict standards.\n",
    "\n",
    "Better for complex transactions and operations.\n",
    "\n",
    "Ideal for enterprise-level services needing high security."
   ]
  }
 ],
 "metadata": {
  "kernelspec": {
   "display_name": "Python [conda env:base] *",
   "language": "python",
   "name": "conda-base-py"
  },
  "language_info": {
   "codemirror_mode": {
    "name": "ipython",
    "version": 3
   },
   "file_extension": ".py",
   "mimetype": "text/x-python",
   "name": "python",
   "nbconvert_exporter": "python",
   "pygments_lexer": "ipython3",
   "version": "3.12.7"
  }
 },
 "nbformat": 4,
 "nbformat_minor": 5
}
