{
 "cells": [
  {
   "cell_type": "code",
   "execution_count": null,
   "id": "c1532fe3-cc63-40ed-938e-c0f9d9150697",
   "metadata": {},
   "outputs": [],
   "source": [
    "#Q1\n",
    "MongoDB is a type of non-relational database (also called NoSQL database) that stores data in a flexible, JSON-like format.\n",
    "Unlike traditional relational databases (SQL), which use tables, rows, and columns, MongoDB uses collections and documents.\n",
    "\n",
    "Example: Think of SQL databases like a spreadsheet with rows and columns, and think of MongoDB like a filing cabinet with various folders, each containing documents with different structures.\n",
    "\n",
    "# When to use MongoDB:\n",
    "\n",
    "When you need to handle a lot of different types of data (like social media posts, user profiles) i.e Unstructure data.\n",
    "\n",
    "When you need to scale your application easily (like for online games or IoT applications)."
   ]
  },
  {
   "cell_type": "code",
   "execution_count": null,
   "id": "50f453a1-6a81-482f-ad14-190f2d11e0a7",
   "metadata": {},
   "outputs": [],
   "source": [
    "#Q2\n",
    "\n",
    "# Features of MongoDB:\n",
    "\n",
    "Flexible Schema: \n",
    "You can have different structures in different documents.\n",
    "\n",
    "Scalable:      Easily add more machines to handle more data.\n",
    "\n",
    "High Performance:      Fast reads and writes.\n",
    "\n",
    "Rich Queries:       Powerful queries with filters, sorting, etc.\n",
    "\n",
    "Aggregation:        Analyze data within the database.\n",
    "\n",
    "Geospatial Indexing:        Query location-based data.\n",
    "\n",
    "Example: \n",
    "Let's say you're managing a store. we can store each product as a document with different fields (like name, price, category) and easily update or add new products without changing the whole database structure."
   ]
  },
  {
   "cell_type": "code",
   "execution_count": null,
   "id": "6930a2ec-bfbd-4469-a829-25776b45c8c8",
   "metadata": {},
   "outputs": [],
   "source": [
    "#Q3\n",
    "import pymongo\n",
    "\n",
    "client = pymongo.MongoClient(\"mongodb+srv://rohitmauryaofficial26:rohit123cluster0.wh59v.mongodb.net/?retryWrites=true&w=majority&appName=Cluster0\")\n",
    "db=client[\"Rohitdb\"]\n",
    "collection=db[\"my_database\"]\n",
    "data={\"name\":\"Rohit Maurya\",\n",
    "      \"department\":\"Information Technology\",\n",
    "      \"year\":\"4th\"}\n",
    "collection.insert_one(data)"
   ]
  },
  {
   "cell_type": "code",
   "execution_count": null,
   "id": "712c127a-851d-4a70-a695-e2ff7ced2e54",
   "metadata": {},
   "outputs": [],
   "source": [
    "#Q4\n",
    "data={\"name\":\"Rohit Maurya\",\n",
    "      \"department\":\"Information Technology\",\n",
    "      \"year\":\"4th\"}\n",
    "collection.insert_one(data)\n",
    "many_records = [\n",
    "    {\"name\": \"Jane\", \"age\": 30, \"city\": \"San Francisco\"},\n",
    "    {\"name\": \"Mike\", \"age\": 27, \"city\": \"Chicago\"}\n",
    "]\n",
    "collection.insert_many(many_record)\n",
    "#using find_one()\n",
    "print(collection.find_one({\"name\": \"John\"}))\n",
    "#using find()\n",
    "for record in collection.find():\n",
    "    print(record)\n"
   ]
  },
  {
   "cell_type": "code",
   "execution_count": null,
   "id": "58c39cea-5fed-47e6-8e6c-e4d4afe6e833",
   "metadata": {},
   "outputs": [],
   "source": [
    "#Q5\n",
    "find() Method:\n",
    "It's used to retrieve documents from a collection that match a given query.\n",
    "#Example\n",
    "\n",
    "\n",
    "results = collection.find({\"name\": \"John\"})\n",
    "\n",
    "for result in results:\n",
    "    print(result)\n"
   ]
  },
  {
   "cell_type": "code",
   "execution_count": null,
   "id": "58bee476-8c92-4449-809e-72163e7cdc6f",
   "metadata": {},
   "outputs": [],
   "source": [
    "#Q6\n",
    "#sort() Method: \n",
    "It sorts the documents in a collection based on a specified field.\n",
    "\n",
    "#Example\n",
    "sorted_results = collection.find().sort(\"age\", 1)  # 1 for ascending, -1 for descending\n",
    "\n",
    "for result in sorted_results:\n",
    "    print(result)\n",
    "\n"
   ]
  },
  {
   "cell_type": "code",
   "execution_count": null,
   "id": "98e81d71-6d03-4de0-99ad-1fa38fb29d07",
   "metadata": {},
   "outputs": [],
   "source": [
    "#Q7\n",
    "#delete_one():\n",
    "Deletes a single document that matches the query. \n",
    "#delete_many():\n",
    "Deletes all documents that match the query. \n",
    "#drop(): \n",
    "Deletes the entire collection.\n",
    "\n",
    "#Example\n",
    "    \n",
    "collection.delete_one({\"name\": \"John\"})\n",
    "\n",
    "\n",
    "collection.delete_many({\"age\": {\"$lt\": 30}})\n",
    "\n",
    "collection.drop()\n"
   ]
  }
 ],
 "metadata": {
  "kernelspec": {
   "display_name": "Python [conda env:base] *",
   "language": "python",
   "name": "conda-base-py"
  },
  "language_info": {
   "codemirror_mode": {
    "name": "ipython",
    "version": 3
   },
   "file_extension": ".py",
   "mimetype": "text/x-python",
   "name": "python",
   "nbconvert_exporter": "python",
   "pygments_lexer": "ipython3",
   "version": "3.12.7"
  }
 },
 "nbformat": 4,
 "nbformat_minor": 5
}
