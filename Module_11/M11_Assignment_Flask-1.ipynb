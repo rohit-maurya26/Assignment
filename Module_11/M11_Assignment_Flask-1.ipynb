{
 "cells": [
  {
   "cell_type": "code",
   "execution_count": null,
   "id": "f6a8ff92-19bb-4bba-9905-d6a183e2eb05",
   "metadata": {},
   "outputs": [],
   "source": [
    "#Q1\n",
    "Flask is a web framework for Python. \n",
    "It helps us to build web applications easily.\n",
    "Flask is used to create an API.\n",
    "                        \n",
    "#Advantages of Flask:\n",
    "\n",
    "Simple and easy to use.\n",
    "\n",
    "Flexible and allows customization.\n",
    "\n",
    "Supports many extensions for added functionality.\n",
    "\n",
    "Scalable."
   ]
  },
  {
   "cell_type": "code",
   "execution_count": null,
   "id": "6fb51ed9-456a-4163-935f-a413c7912ba7",
   "metadata": {},
   "outputs": [],
   "source": [
    "#Q2\n",
    "from flask import Flask\n",
    "app=Flask(__name__)\n",
    "@app.route(\"/\")\n",
    "def hello():\n",
    "    return \"<h1>Hello World</h>\"\n",
    "if __name__=='__main__':\n",
    "  app.run(host=\"0.0.0.0\")"
   ]
  },
  {
   "cell_type": "code",
   "execution_count": null,
   "id": "770481b6-278c-443d-9061-f90b6535a4c9",
   "metadata": {},
   "outputs": [],
   "source": [
    "#Q3\n",
    "App routing in Flask means defining different paths (URLs) in our web application. \n",
    "It allows us to handle different web addresses and what to show on them.\n",
    "\n",
    "    \n",
    "# Example,\n",
    "showing a homepage when someone visits our site."
   ]
  },
  {
   "cell_type": "code",
   "execution_count": null,
   "id": "61996689-2db5-4159-bb1e-611f806a23a1",
   "metadata": {},
   "outputs": [],
   "source": [
    "#Q4\n",
    "from flask import Flask\n",
    "app = Flask(__name__)\n",
    "\n",
    "@app.route('/welcome')\n",
    "def welcome():\n",
    "    return '<h1>Welcome to ABC Corporation<h1>'\n",
    "\n",
    "@app.route('/')\n",
    "def home():\n",
    "    return '''\n",
    "    Company Name: ABC Corporation<br>\n",
    "    Location: India<br>\n",
    "    Contact Detail: 4556567575\n",
    "    '''\n",
    "\n",
    "if __name__ == '__main__':\n",
    "    app.run()\n"
   ]
  },
  {
   "cell_type": "code",
   "execution_count": null,
   "id": "7d8b8029-ee57-41e3-8757-2e712ad5a4d3",
   "metadata": {},
   "outputs": [],
   "source": [
    "#Q5\n",
    "#The url_for() function is used for URL building. It helps in generating URLs for specific functions\n",
    "\n",
    "#Example:>>\n",
    "\n",
    "from flask import Flask, url_for\n",
    "app = Flask(__name__)\n",
    "\n",
    "@app.route('/')\n",
    "def home():\n",
    "    return 'Home Page'\n",
    "\n",
    "@app.route('/about')\n",
    "def about():\n",
    "    return 'About Page'\n",
    "\n",
    "@app.route('/link')\n",
    "def link():\n",
    "    home_url = url_for('home')\n",
    "    about_url = url_for('about')\n",
    "    return f'Home URL: {home_url}, About URL: {about_url}'\n",
    "\n",
    "if __name__ == '__main__':\n",
    "    app.run()\n"
   ]
  }
 ],
 "metadata": {
  "kernelspec": {
   "display_name": "Python [conda env:base] *",
   "language": "python",
   "name": "conda-base-py"
  },
  "language_info": {
   "codemirror_mode": {
    "name": "ipython",
    "version": 3
   },
   "file_extension": ".py",
   "mimetype": "text/x-python",
   "name": "python",
   "nbconvert_exporter": "python",
   "pygments_lexer": "ipython3",
   "version": "3.12.7"
  }
 },
 "nbformat": 4,
 "nbformat_minor": 5
}
