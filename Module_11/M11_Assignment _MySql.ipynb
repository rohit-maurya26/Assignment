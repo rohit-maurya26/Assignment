{
 "cells": [
  {
   "cell_type": "code",
   "execution_count": null,
   "id": "ffb21ea0-c0ac-48e2-b79b-80969937a240",
   "metadata": {},
   "outputs": [],
   "source": [
    "#Q1\n",
    "A database is a collection of data organized in a way that makes it easy to access, manage, and update.\n",
    "\n",
    "#SQL Databases: \n",
    "They use structured query language (SQL) and store data in tables.\n",
    "Example: MySQL, PostgreSQL.\n",
    "\n",
    "#NoSQL Databases:\n",
    "They store data in various formats like documents, key-value pairs, or graphs. \n",
    " Example: MongoDB, Redis."
   ]
  },
  {
   "cell_type": "code",
   "execution_count": null,
   "id": "91aa6df7-8fdd-4442-a5b4-f4f7a80acd89",
   "metadata": {},
   "outputs": [],
   "source": [
    "#Q2\n",
    "#DDL (Data Definition Language): \n",
    "It is used to define or modify the structure of the database.\n",
    "\n",
    "CREATE: Makes a new table or database.\n",
    "\n",
    "DROP: Deletes a table or database.\n",
    "\n",
    "ALTER: Changes the structure of an existing table.\n",
    "\n",
    "TRUNCATE: Deletes all data in a table but keeps the table structure.\n",
    "\n",
    "Example: CREATE TABLE Students (ID INT, Name VARCHAR(50));"
   ]
  },
  {
   "cell_type": "code",
   "execution_count": null,
   "id": "c74eb581-ca91-4730-8e3c-62d672d01395",
   "metadata": {},
   "outputs": [],
   "source": [
    "#Q3\n",
    "#DML (Data Manipulation Language): \n",
    "It is used to manage data within tables.\n",
    "\n",
    "INSERT: Adds new data to a table.\n",
    "\n",
    "UPDATE: Changes existing data in a table.\n",
    "\n",
    "DELETE: Removes data from a table.\n",
    "\n",
    "Example: INSERT INTO Students (ID, Name) VALUES (1, 'John Doe');"
   ]
  },
  {
   "cell_type": "code",
   "execution_count": null,
   "id": "bddcf91d-f1f5-4cc1-b25c-27dbed948963",
   "metadata": {},
   "outputs": [],
   "source": [
    "#Q4\n",
    "#DQL (Data Query Language): \n",
    "It is used to query or retrieve data from a table.\n",
    "\n",
    "SELECT: Retrieves data from a table.\n",
    "\n",
    "Example: SELECT Name FROM Students WHERE ID = 1;"
   ]
  },
  {
   "cell_type": "code",
   "execution_count": null,
   "id": "d8111f53-5534-4434-98ca-0594b743a28a",
   "metadata": {},
   "outputs": [],
   "source": [
    "#Q5\n",
    "#Primary Key: \n",
    "A unique identifier for each record in a table. Example: ID in a Students table.\n",
    "\n",
    "#Foreign Key: \n",
    "A field in one table that links to the primary key in another table. \n",
    "Example: StudentID in a Grades table linking to ID in the Students table."
   ]
  },
  {
   "cell_type": "code",
   "execution_count": null,
   "id": "6ecc952a-89ab-4ead-bad2-dcffe5a847e4",
   "metadata": {},
   "outputs": [],
   "source": [
    "#Q6\n",
    "import mysql.connector\n",
    "\n",
    "mydb = mysql.connector.connect(\n",
    "    host=\"localhost\",\n",
    "    user=\"rohit26\",\n",
    "    password=\"data123\",\n",
    "    database=\"DataScience\"\n",
    ")\n",
    "\n",
    "\n",
    "mycursor = mydb.cursor()\n",
    "\n",
    "\n",
    "mycursor.execute(\"SELECT * FROM Students\")\n",
    "\n",
    "\n",
    "result = mycursor.fetchall()\n",
    "\n",
    "for x in result:\n",
    "    print(x)\n",
    "\n",
    "#cursor(): \n",
    "Creates a cursor object to interact with the database.\n",
    "\n",
    "#execute(): \n",
    "Executes a given SQL query."
   ]
  },
  {
   "cell_type": "code",
   "execution_count": null,
   "id": "5822e32b-da51-42a8-9ca2-38b548930690",
   "metadata": {},
   "outputs": [],
   "source": [
    "#Q7\n",
    "#Order of Execution of SQL Clause\n",
    "FROM\n",
    "\n",
    "WHERE\n",
    "\n",
    "GROUP BY\n",
    "\n",
    "HAVING\n",
    "\n",
    "SELECT\n",
    "\n",
    "ORDER BY"
   ]
  }
 ],
 "metadata": {
  "kernelspec": {
   "display_name": "Python [conda env:base] *",
   "language": "python",
   "name": "conda-base-py"
  },
  "language_info": {
   "codemirror_mode": {
    "name": "ipython",
    "version": 3
   },
   "file_extension": ".py",
   "mimetype": "text/x-python",
   "name": "python",
   "nbconvert_exporter": "python",
   "pygments_lexer": "ipython3",
   "version": "3.12.7"
  }
 },
 "nbformat": 4,
 "nbformat_minor": 5
}
