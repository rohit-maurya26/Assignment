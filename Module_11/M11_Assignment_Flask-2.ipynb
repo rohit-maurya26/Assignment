{
 "cells": [
  {
   "cell_type": "code",
   "execution_count": null,
   "id": "e93ed33e-3e03-4c46-b9f2-ca439ad2eaa5",
   "metadata": {},
   "outputs": [],
   "source": [
    "#Q1\n",
    "#GET:\n",
    "\n",
    ">>Used to get data from a server.\n",
    "\n",
    "Example:\n",
    "When we type a URL in our web browser to visit a website, we're using GET to fetch the web page.\n",
    "\n",
    "#POST:\n",
    "\n",
    ">>Used to send data to a server.\n",
    "\n",
    "Example:\n",
    "When we fill out a form on a website (like a login form) and submit it, we're using POST to send the form data to the server."
   ]
  },
  {
   "cell_type": "code",
   "execution_count": null,
   "id": "797d2d7f-796a-4e5a-bb08-f23239e4733e",
   "metadata": {},
   "outputs": [
    {
     "name": "stdout",
     "output_type": "stream",
     "text": [
      " * Serving Flask app '__main__'\n",
      " * Debug mode: off\n"
     ]
    },
    {
     "name": "stderr",
     "output_type": "stream",
     "text": [
      "WARNING: This is a development server. Do not use it in a production deployment. Use a production WSGI server instead.\n",
      " * Running on http://127.0.0.1:5000\n",
      "Press CTRL+C to quit\n",
      "127.0.0.1 - - [21/Feb/2025 02:14:03] \"GET / HTTP/1.1\" 404 -\n",
      "127.0.0.1 - - [21/Feb/2025 02:15:01] \"GET /form?username=rohit HTTP/1.1\" 405 -\n"
     ]
    }
   ],
   "source": [
    "#Q2\n",
    "In Flask, request is used to get data sent by the client (like a web browser) to the server. \n",
    "It helps to access data like form inputs, query parameters, and JSON data.\n",
    "\n",
    "#Example:>>\n",
    "\n",
    "from flask import Flask, request\n",
    "app = Flask(__name__)\n",
    "\n",
    "@app.route('/form', methods=['POST'])\n",
    "def form():\n",
    "    username = request.form['username']\n",
    "    return f'Hello, {username}'\n",
    "\n",
    "\n",
    "    "
   ]
  },
  {
   "cell_type": "code",
   "execution_count": null,
   "id": "b75bd36b-3d53-419b-9ab6-daf577460123",
   "metadata": {},
   "outputs": [],
   "source": [
    "#Q3\n",
    "#redirect():\n",
    "it is used to send the user to a different URL. \n",
    "It helps in moving users from one page to another.\n",
    "\n",
    "#Example:>>\n",
    "from flask import Flask, redirect, url_for\n",
    "app = Flask(__name__)\n",
    "\n",
    "@app.route('/')\n",
    "def home():\n",
    "    return 'Home Page'\n",
    "\n",
    "@app.route('/redirect-example')\n",
    "def redirect_example():\n",
    "    return redirect(url_for('home'))\n"
   ]
  },
  {
   "cell_type": "code",
   "execution_count": null,
   "id": "16a90d93-c88b-42d3-912a-d59a9fe2bc90",
   "metadata": {},
   "outputs": [],
   "source": [
    "#Q4\n",
    "#Templates:\n",
    "\n",
    "Templates are HTML files used to create dynamic web pages.\n",
    "\n",
    "They help in separating the design (HTML) from the logic (Python code).\n",
    "\n",
    "#render_template():\n",
    "\n",
    "This function is used to render (display) HTML templates in Flask.\n",
    "\n",
    "It combines the template with data to show dynamic content.\n",
    "\n",
    "#Example:>>\n",
    "from flask import Flask, render_template\n",
    "app = Flask(__name__)\n",
    "\n",
    "@app.route('/')\n",
    "def home():\n",
    "    return render_template('index.html')\n"
   ]
  },
  {
   "cell_type": "code",
   "execution_count": null,
   "id": "7cfbc5d3-5f87-46a3-8888-d8f8f6ec9c22",
   "metadata": {},
   "outputs": [
    {
     "name": "stdout",
     "output_type": "stream",
     "text": [
      " * Serving Flask app '__main__'\n",
      " * Debug mode: off\n"
     ]
    },
    {
     "name": "stderr",
     "output_type": "stream",
     "text": [
      "WARNING: This is a development server. Do not use it in a production deployment. Use a production WSGI server instead.\n",
      " * Running on http://127.0.0.1:5000\n",
      "Press CTRL+C to quit\n",
      "127.0.0.1 - - [21/Feb/2025 02:19:14] \"GET / HTTP/1.1\" 404 -\n",
      "127.0.0.1 - - [21/Feb/2025 02:19:15] \"GET / HTTP/1.1\" 404 -\n"
     ]
    }
   ],
   "source": [
    "#Q5\n",
    "from flask import Flask, jsonify\n",
    "\n",
    "app = Flask(__name__)\n",
    "\n",
    "@app.route('/api/data', methods=['GET'])\n",
    "def get_data():\n",
    "    data = {'message': 'Hello, API!'}\n",
    "    return jsonify(data)\n",
    "\n",
    "if __name__ == '__main__':\n",
    "    app.run()\n"
   ]
  },
  {
   "cell_type": "code",
   "execution_count": null,
   "id": "41b3b0d3-819c-4387-bb19-6eef13e59011",
   "metadata": {},
   "outputs": [],
   "source": []
  }
 ],
 "metadata": {
  "kernelspec": {
   "display_name": "Python [conda env:base] *",
   "language": "python",
   "name": "conda-base-py"
  },
  "language_info": {
   "codemirror_mode": {
    "name": "ipython",
    "version": 3
   },
   "file_extension": ".py",
   "mimetype": "text/x-python",
   "name": "python",
   "nbconvert_exporter": "python",
   "pygments_lexer": "ipython3",
   "version": "3.12.7"
  }
 },
 "nbformat": 4,
 "nbformat_minor": 5
}
