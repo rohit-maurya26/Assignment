{
 "cells": [
  {
   "cell_type": "code",
   "execution_count": 4,
   "id": "2d67a96c",
   "metadata": {},
   "outputs": [
    {
     "name": "stdout",
     "output_type": "stream",
     "text": [
      "Sorted list of players: [('Virat Kohli', 24936), ('Jack Kallis', 25534), ('Ricky Ponting', 27483), ('Sachin Tendulkar', 34357)]\n"
     ]
    }
   ],
   "source": [
    "#Assignment 2\n",
    "#Q1\n",
    "players = [ ('Sachin Tendulkar', 34357), ('Ricky Ponting', 27483), ('Jack Kallis', 25534), ('Virat Kohli', 24936)]\n",
    "sorted_players = sorted(players, key=lambda x: x[1])\n",
    "\n",
    "print(\"Sorted list of players:\", sorted_players)\n"
   ]
  },
  {
   "cell_type": "code",
   "execution_count": 6,
   "id": "ea3ce91f",
   "metadata": {},
   "outputs": [
    {
     "data": {
      "text/plain": [
       "[1, 4, 9, 16, 25, 36, 49, 64, 81, 100]"
      ]
     },
     "execution_count": 6,
     "metadata": {},
     "output_type": "execute_result"
    }
   ],
   "source": [
    "#Q2\n",
    "l1=[1,2,3,4,5,6,7,8,9,10]\n",
    "list(map(lambda x:x**2,l1))"
   ]
  },
  {
   "cell_type": "code",
   "execution_count": 12,
   "id": "75319588",
   "metadata": {},
   "outputs": [
    {
     "data": {
      "text/plain": [
       "('1', '2', '3', '4', '5', '6', '7', '8', '9', '10')"
      ]
     },
     "execution_count": 12,
     "metadata": {},
     "output_type": "execute_result"
    }
   ],
   "source": [
    "#Q3\n",
    "string=[1,2,3,4,5,6,7,8,9,10]\n",
    "tuple(map(lambda x:str(x),string))\n",
    "\n"
   ]
  },
  {
   "cell_type": "code",
   "execution_count": 33,
   "id": "77c9fdfd",
   "metadata": {},
   "outputs": [
    {
     "name": "stdout",
     "output_type": "stream",
     "text": [
      "[1, 2, 3, 4, 5, 6, 7, 8, 9, 10, 11, 12, 13, 14, 15, 16, 17, 18, 19, 20, 21, 22, 23, 24, 25]\n",
      "15511210043330985984000000\n"
     ]
    }
   ],
   "source": [
    "#Q4\n",
    "from functools import reduce\n",
    "l1=[]\n",
    "for i in range(1,26):\n",
    "    l1.append(i)\n",
    "print(l1)\n",
    "l2=iter(l1)\n",
    "\n",
    "product=reduce(lambda x,y:x*y,l2)\n",
    "print (product)\n"
   ]
  },
  {
   "cell_type": "code",
   "execution_count": 11,
   "id": "9a2a8902",
   "metadata": {},
   "outputs": [
    {
     "name": "stdout",
     "output_type": "stream",
     "text": [
      "[6, 60, 90, 120]\n"
     ]
    }
   ],
   "source": [
    "#Q5\n",
    "l1 = [2, 3, 6, 9, 27, 60, 90, 120, 55, 46]\n",
    "\n",
    "filtered_numbers = list(filter(lambda x: x % 2 == 0 and x % 3 == 0, l1))\n",
    "\n",
    "print(filtered_numbers)\n"
   ]
  },
  {
   "cell_type": "code",
   "execution_count": 13,
   "id": "dec022af",
   "metadata": {},
   "outputs": [
    {
     "data": {
      "text/plain": [
       "['php', 'aba', 'radar', 'level']"
      ]
     },
     "execution_count": 13,
     "metadata": {},
     "output_type": "execute_result"
    }
   ],
   "source": [
    "#Q6\n",
    "l2=['python', 'php', 'aba', 'radar', 'level']\n",
    "list(filter(lambda x:x==x[::-1],l2))"
   ]
  }
 ],
 "metadata": {
  "kernelspec": {
   "display_name": "Python 3 (ipykernel)",
   "language": "python",
   "name": "python3"
  },
  "language_info": {
   "codemirror_mode": {
    "name": "ipython",
    "version": 3
   },
   "file_extension": ".py",
   "mimetype": "text/x-python",
   "name": "python",
   "nbconvert_exporter": "python",
   "pygments_lexer": "ipython3",
   "version": "3.9.13"
  }
 },
 "nbformat": 4,
 "nbformat_minor": 5
}
