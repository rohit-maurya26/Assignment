{
 "cells": [
  {
   "cell_type": "code",
   "execution_count": null,
   "id": "5ee9b348-1160-4e00-9ba5-7e4adb8b682e",
   "metadata": {},
   "outputs": [],
   "source": [
    "#Q1\n",
    "Multithreading: \n",
    "It’s like having multiple people (threads) doing different tasks simultaneously in the same room (process).\n",
    "\n",
    "Why it’s used: \n",
    "It is used to perform multiple tasks at the same time, making programs run faster, especially when waiting for external resources.\n",
    "\n",
    "Module:\n",
    "The module used is threading."
   ]
  },
  {
   "cell_type": "markdown",
   "id": "1ac1fba9-e092-4268-9b5b-d2283604757c",
   "metadata": {},
   "source": [
    "#Q2\n",
    "activeCount(): \n",
    "Returns the number of thread objects currently alive.\n",
    "\n",
    "currentThread(): \n",
    "Returns the current Thread object, which corresponds to the thread invoking this function.\n",
    "\n",
    "enumerate(): \n",
    "Returns a list of all thread objects currently alive."
   ]
  },
  {
   "cell_type": "code",
   "execution_count": null,
   "id": "11d443bc-e207-40aa-aeec-694cd16409fb",
   "metadata": {},
   "outputs": [],
   "source": [
    "#Q3\n",
    "run():\n",
    "Contains the code that the thread should execute.\n",
    "\n",
    "start(): \n",
    "Starts the thread’s activity. Calls the run() method in a separate thread of control.\n",
    "\n",
    "join():\n",
    "Waits for the thread to terminate.\n",
    "\n",
    "isAlive(): \n",
    "Checks whether the thread is still running."
   ]
  },
  {
   "cell_type": "code",
   "execution_count": 2,
   "id": "fe4f2f68-e975-4d52-a68c-df74c1946274",
   "metadata": {},
   "outputs": [
    {
     "name": "stdout",
     "output_type": "stream",
     "text": [
      "Square of 1: 1\n",
      "Square of 2: 4\n",
      "Square of 3: 9\n",
      "Square of 4: 16\n",
      "Square of 5: 25\n",
      "Cube of 1: 1\n",
      "Cube of 2: 8\n",
      "Cube of 3: 27\n",
      "Cube of 4: 64\n",
      "Cube of 5: 125\n"
     ]
    }
   ],
   "source": [
    "#Q4\n",
    "import threading\n",
    "\n",
    "def print_squares():\n",
    "    for i in range(1, 6):\n",
    "        print(f'Square of {i}: {i**2}')\n",
    "\n",
    "def print_cubes():\n",
    "    for i in range(1, 6):\n",
    "        print(f'Cube of {i}: {i**3}')\n",
    "\n",
    "\n",
    "thread1 = threading.Thread(target=print_squares)\n",
    "thread2 = threading.Thread(target=print_cubes)\n",
    "\n",
    "\n",
    "thread1.start()\n",
    "thread2.start()\n",
    "\n",
    "\n",
    "thread1.join()\n",
    "thread2.join()\n"
   ]
  },
  {
   "cell_type": "code",
   "execution_count": null,
   "id": "d24f92ca-611c-4067-97f0-4f1ae7ebf2df",
   "metadata": {},
   "outputs": [],
   "source": [
    "#Q5\n",
    "Advantages:\n",
    "\n",
    "Efficient utilization of resources.\n",
    "\n",
    "Better performance for tasks that involve waiting (e.g., I/O operations).\n",
    "\n",
    "Improved application responsiveness.\n",
    "\n",
    "Disadvantages:\n",
    "\n",
    "Complexity in synchronization.\n",
    "\n",
    "Risk of race conditions and deadlocks.\n",
    "\n",
    "Context switching overhead."
   ]
  },
  {
   "cell_type": "code",
   "execution_count": null,
   "id": "4dfd9944-d89d-4301-b777-e1ce2165487d",
   "metadata": {},
   "outputs": [],
   "source": [
    "#Q6\n",
    "Deadlocks:\n",
    "It’s a situation where two or more threads are waiting for each other to release resources, causing all of them to be stuck forever. \n",
    "\n",
    "\n",
    "Race conditions: \n",
    "This occurs when multiple threads access shared data concurrently and try to change it at the same time. \n",
    "The outcome depends on the sequence of access, leading to unpredictable results.\n",
    "It’s like two people trying to edit the same document at the same time without knowing what the other is doing."
   ]
  }
 ],
 "metadata": {
  "kernelspec": {
   "display_name": "Python [conda env:base] *",
   "language": "python",
   "name": "conda-base-py"
  },
  "language_info": {
   "codemirror_mode": {
    "name": "ipython",
    "version": 3
   },
   "file_extension": ".py",
   "mimetype": "text/x-python",
   "name": "python",
   "nbconvert_exporter": "python",
   "pygments_lexer": "ipython3",
   "version": "3.12.7"
  }
 },
 "nbformat": 4,
 "nbformat_minor": 5
}
