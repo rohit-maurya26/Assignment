{
 "cells": [
  {
   "cell_type": "code",
   "execution_count": 9,
   "id": "462dd64d-64da-4623-9f61-0a961132a297",
   "metadata": {},
   "outputs": [
    {
     "data": {
      "text/plain": [
       "array(['1', '2', '3', '4', '5'], dtype='<U1')"
      ]
     },
     "execution_count": 9,
     "metadata": {},
     "output_type": "execute_result"
    }
   ],
   "source": [
    "import numpy as np\n",
    "list_ = [ '1' , '2', '3' , '4' , '5' ]\n",
    "array_list = np.array(object = list_)\n",
    "array_list"
   ]
  },
  {
   "cell_type": "code",
   "execution_count": 11,
   "id": "04f678fa-5505-48d9-8d3f-77011d89351e",
   "metadata": {},
   "outputs": [
    {
     "name": "stdout",
     "output_type": "stream",
     "text": [
      "<class 'list'>\n",
      "<class 'numpy.ndarray'>\n"
     ]
    }
   ],
   "source": [
    "#Q1\n",
    "# Yes, list_ is a Python list and array_list is a NumPy array.\n",
    "import numpy as np\n",
    "list_ = [ '1' , '2' , '3' , '4' , '5' ]\n",
    "array_list = np.array(object = list_)\n",
    "print(type(list_))\n",
    "print(type(array_list))\n"
   ]
  },
  {
   "cell_type": "code",
   "execution_count": 17,
   "id": "238bd031-ea6c-4a5b-8d23-41f09b365863",
   "metadata": {},
   "outputs": [
    {
     "name": "stdout",
     "output_type": "stream",
     "text": [
      "<class 'str'>\n",
      "<class 'str'>\n",
      "<class 'str'>\n",
      "<class 'str'>\n",
      "<class 'str'>\n",
      "<U1\n"
     ]
    }
   ],
   "source": [
    "#Q2\n",
    "\n",
    "for item in list_:\n",
    "  print(type(item))\n",
    "\n",
    "print(array_list.dtype)\n"
   ]
  },
  {
   "cell_type": "code",
   "execution_count": 19,
   "id": "99504906-3729-4b5a-83b0-5971dc2cfb8a",
   "metadata": {},
   "outputs": [
    {
     "name": "stdout",
     "output_type": "stream",
     "text": [
      "<class 'str'>\n",
      "<class 'str'>\n",
      "<class 'str'>\n",
      "<class 'str'>\n",
      "<class 'str'>\n",
      "int32\n"
     ]
    }
   ],
   "source": [
    "#Q3\n",
    "# Yes, elements in list_ are strings, while elements in the new arra_list (note the typo in the question, assuming array_list) are integers because of dtype=int.\n",
    "\n",
    "# Original list_ still has strings\n",
    "for item in list_:\n",
    "  print(type(item))\n",
    "\n",
    "# New array_list has integers\n",
    "array_list = np.array(object = list_, dtype = int)\n",
    "print(array_list.dtype)"
   ]
  },
  {
   "cell_type": "code",
   "execution_count": 21,
   "id": "dc0102ef-1641-48df-bcda-1df5f04404cb",
   "metadata": {},
   "outputs": [
    {
     "name": "stdout",
     "output_type": "stream",
     "text": [
      "(2, 3)\n",
      "6\n"
     ]
    }
   ],
   "source": [
    "#Q4\n",
    "import numpy as np\n",
    "num_list = [ [ 1 , 2 , 3 ] , [ 4 , 5 , 6 ] ]\n",
    "num_array = np.array(object = num_list)\n",
    "\n",
    "# (i) shape\n",
    "print(num_array.shape)\n",
    "# (ii) size\n",
    "print(num_array.size)"
   ]
  },
  {
   "cell_type": "code",
   "execution_count": 25,
   "id": "d280652a-4d2b-44a7-b2f1-ec6f9312e8b9",
   "metadata": {},
   "outputs": [
    {
     "data": {
      "text/plain": [
       "array([[0., 0., 0.],\n",
       "       [0., 0., 0.],\n",
       "       [0., 0., 0.]])"
      ]
     },
     "execution_count": 25,
     "metadata": {},
     "output_type": "execute_result"
    }
   ],
   "source": [
    "#Q5\n",
    "import numpy as np\n",
    "zeros_array = np.zeros((3, 3))\n",
    "zeros_array"
   ]
  },
  {
   "cell_type": "code",
   "execution_count": 29,
   "id": "e3352bdc-e583-4b5e-ab37-ef1eba360509",
   "metadata": {},
   "outputs": [
    {
     "name": "stdout",
     "output_type": "stream",
     "text": [
      "[[1. 0. 0. 0. 0.]\n",
      " [0. 1. 0. 0. 0.]\n",
      " [0. 0. 1. 0. 0.]\n",
      " [0. 0. 0. 1. 0.]\n",
      " [0. 0. 0. 0. 1.]]\n"
     ]
    }
   ],
   "source": [
    "#Q6\n",
    "import numpy as np\n",
    "identity_matrix = np.identity(5)\n",
    "print(identity_matrix) \n"
   ]
  },
  {
   "cell_type": "code",
   "execution_count": null,
   "id": "ee3cd408-cbb5-471c-b0c9-c1483e9999e3",
   "metadata": {},
   "outputs": [],
   "source": []
  }
 ],
 "metadata": {
  "kernelspec": {
   "display_name": "Python [conda env:base] *",
   "language": "python",
   "name": "conda-base-py"
  },
  "language_info": {
   "codemirror_mode": {
    "name": "ipython",
    "version": 3
   },
   "file_extension": ".py",
   "mimetype": "text/x-python",
   "name": "python",
   "nbconvert_exporter": "python",
   "pygments_lexer": "ipython3",
   "version": "3.12.7"
  }
 },
 "nbformat": 4,
 "nbformat_minor": 5
}
