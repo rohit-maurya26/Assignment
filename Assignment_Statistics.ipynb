{
 "cells": [
  {
   "cell_type": "code",
   "execution_count": null,
   "id": "98f038e7-7350-4565-b9c1-b541effda7a2",
   "metadata": {},
   "outputs": [],
   "source": [
    "#Q1\n",
    "Statistics is the science of collecting, organizing, analyzing, interpreting, and presenting data."
   ]
  },
  {
   "cell_type": "code",
   "execution_count": null,
   "id": "a1045681-8004-45d8-81b2-60332d8c61d9",
   "metadata": {},
   "outputs": [],
   "source": [
    "#Q2\n",
    "Descriptive Statistics: Summarizes and describes the main features of a dataset. \n",
    "Example: Calculating the average height of students in a class.   \n",
    "\n",
    "Inferential Statistics: Draws conclusions about a population based on a sample of data.\n",
    "Example: Conducting a survey of voters to predict the outcome of an election."
   ]
  },
  {
   "cell_type": "code",
   "execution_count": null,
   "id": "e10473db-acbd-43fd-99b7-f16545a204d6",
   "metadata": {},
   "outputs": [],
   "source": [
    "#Q3\n",
    "Quantitative Data: Numerical data that can be measured or counted.\n",
    "Discrete: Can only take specific, separate values (e.g., number of cars).\n",
    "Continuous: Can take any value within a given range (e.g., height).\n",
    "  \n",
    "Qualitative Data: Categorical data that describes qualities or characteristics.\n",
    "Nominal: Categories with no inherent order (e.g., colors).\n",
    "Ordinal: Categories with a meaningful order (e.g., education levels: high school, bachelor's, master's)."
   ]
  },
  {
   "cell_type": "code",
   "execution_count": null,
   "id": "3d9b9211-1a4f-405b-abb0-6c3e1fa762e0",
   "metadata": {},
   "outputs": [],
   "source": [
    "#Q4\n",
    "(i) Grading in exam: A+, A, B+, B, C+, C, D, E - Qualitative (Ordinal)   \n",
    "(ii) Colour of mangoes: yellow, green, orange, red - Qualitative (Nominal)\n",
    "(iii) Height data of a class: [178.9, 179, 179.5, 176, 177.2, 178.3, 175.8, ...] - Quantitative (Continuous)   \n",
    "(iv) Number of mangoes exported by a farm: [500, 600, 478, 672, ...] - Quantitative (Discrete)   \n"
   ]
  },
  {
   "cell_type": "code",
   "execution_count": null,
   "id": "6636eabd-a851-4291-8650-3392fdd62654",
   "metadata": {},
   "outputs": [],
   "source": [
    "#Q5\n",
    "Levels of measurement refer to the nature of the values assigned to variables and the mathematical operations that can be performed on them.   \n",
    "\n",
    "Nominal: Categories with no order (e.g., Gender: Male, Female, Other).\n",
    "Ordinal: Ordered categories, but the difference between them isn't meaningful (e.g., Satisfaction level: Very Dissatisfied, Dissatisfied, Neutral, Satisfied, Very Satisfied).\n",
    "Interval: Ordered data with meaningful differences between values, but no true zero point (e.g., Temperature in Celsius or Fahrenheit).\n",
    "Ratio: Ordered data with meaningful differences and a true zero point, allowing for ratio comparisons (e.g., Height in centimeters)."
   ]
  },
  {
   "cell_type": "code",
   "execution_count": null,
   "id": "5ae386b3-890c-441a-b33e-0b86cccddead",
   "metadata": {},
   "outputs": [],
   "source": [
    "#Q6\n",
    "Understanding the level of measurement dictates which statistical analyses are appropriate.\n",
    "Applying the wrong analysis can lead to meaningless or incorrect conclusions.   \n",
    "\n",
    "Example: We have data on customer satisfaction (Ordinal: Poor, Fair, Good, Excellent).\n",
    "Calculating the average satisfaction score numerically might be misleading because the \"distance\" between \"Poor\" and \"Fair\" isn't necessarily the same as between \"Good\" and \"Excellent.\" Instead, you might analyze the frequency of each satisfaction level or compare the proportion of \"Excellent\" ratings between different groups."
   ]
  },
  {
   "cell_type": "code",
   "execution_count": null,
   "id": "4d0625f2-ffe4-4dc5-9ee7-6fbf9883d0da",
   "metadata": {},
   "outputs": [],
   "source": [
    "#Q7\n",
    "Nominal data consists of categories with no inherent order or ranking (e.g., types of fruit).\n",
    "\n",
    "\n",
    "Ordinal data also consists of categories, but these categories have a meaningful order or rank (e.g., customer service ratings)."
   ]
  },
  {
   "cell_type": "code",
   "execution_count": null,
   "id": "a1db280b-5830-45ce-8936-f195a6d5bf9a",
   "metadata": {},
   "outputs": [],
   "source": [
    "#Q8\n",
    "A box plot (also known as a box and whisker plot) is particularly useful for displaying the range of a dataset, along with other summary statistics like the median and quartiles."
   ]
  },
  {
   "cell_type": "code",
   "execution_count": null,
   "id": "066eaaa4-aae9-4088-b3cf-2c73b01e39fe",
   "metadata": {},
   "outputs": [],
   "source": [
    "#Q9\n",
    "Descriptive Statistics: \n",
    "Focuses on summarizing and presenting the characteristics of a dataset. \n",
    "Example: Calculating the mean, median, and standard deviation of test scores for a class.\n",
    "This helps understand the overall performance of that specific class.   \n",
    "\n",
    "\n",
    "Inferential Statistics:\n",
    "Uses sample data to make inferences or predictions about a larger population. \n",
    "Example: Conducting a hypothesis test on a sample of patients to determine if a new drug is more effective than a placebo for the entire population of people with that condition."
   ]
  },
  {
   "cell_type": "code",
   "execution_count": null,
   "id": "c2c2d73c-9229-4bfe-87fb-b143ad66c7af",
   "metadata": {},
   "outputs": [],
   "source": [
    "#Q10\n",
    "Measures of Central Tendency: Describe the \"typical\" or central value in a dataset.   \n",
    "\n",
    "Mean: The average of all values. Useful for summarizing the overall level of a quantitative dataset.\n",
    "Median: The middle value when the data is ordered. Less affected by outliers than the mean, useful for skewed datasets.\n",
    "Mode: The most frequently occurring value. Useful for identifying the most common category or value in any type of data.\n",
    "Measures of Variability: Describe the spread or dispersion of data points in a dataset.\n",
    "\n",
    "Range: The difference between the maximum and minimum values. Provides a simple measure of the total spread.\n",
    "Variance: The average of the squared differences from the mean. Quantifies the overall dispersion, giving more weight to values farther from the mean.\n",
    "Standard Deviation: The square root of the variance. Provides a measure of spread in the original units of the data, making it easier to interpret than variance."
   ]
  }
 ],
 "metadata": {
  "kernelspec": {
   "display_name": "Python [conda env:base] *",
   "language": "python",
   "name": "conda-base-py"
  },
  "language_info": {
   "codemirror_mode": {
    "name": "ipython",
    "version": 3
   },
   "file_extension": ".py",
   "mimetype": "text/x-python",
   "name": "python",
   "nbconvert_exporter": "python",
   "pygments_lexer": "ipython3",
   "version": "3.12.7"
  }
 },
 "nbformat": 4,
 "nbformat_minor": 5
}
